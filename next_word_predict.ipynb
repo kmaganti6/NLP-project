{
 "cells": [
  {
   "cell_type": "code",
   "execution_count": 49,
   "metadata": {
    "id": "xv1He7xdlsvR"
   },
   "outputs": [],
   "source": [
    "import tensorflow as tf\n",
    "from tensorflow.keras.preprocessing.text import Tokenizer\n",
    "from tensorflow.keras.layers import Embedding, LSTM, Dense\n",
    "from tensorflow.keras.models import Sequential\n",
    "from tensorflow.keras.utils import to_categorical\n",
    "from tensorflow.keras.optimizers import Adam\n",
    "import pickle\n",
    "import numpy as np\n",
    "import os\n",
    "import matplotlib.pyplot as plt"
   ]
  },
  {
   "cell_type": "code",
   "execution_count": 101,
   "metadata": {
    "colab": {
     "base_uri": "https://localhost:8080/"
    },
    "id": "5GlKEOVroQ3K",
    "outputId": "fb2888f7-f952-477a-b8db-e98888938aba"
   },
   "outputs": [
    {
     "name": "stdout",
     "output_type": "stream",
     "text": [
      "The First Line:  One morning, when Gregor Samsa woke from troubled dreams, he found\n",
      "\n",
      "The Last Line:  first to get up and stretch out her young body.\n"
     ]
    }
   ],
   "source": [
    "\"\"\"\n",
    "    Dataset: http://www.gutenberg.org/cache/epub/5200/pg5200.txt\n",
    "    Remove all the unnecessary data and label it as Metamorphosis-clean.\n",
    "    The starting and ending lines should be as follows.\n",
    "\n",
    "\"\"\"\n",
    "\n",
    "\n",
    "file = open(\"dataset.txt\", \"r\", encoding = \"utf8\")\n",
    "lines = []\n",
    "\n",
    "for i in file:\n",
    "    lines.append(i)\n",
    "    \n",
    "print(\"The First Line: \", lines[0])\n",
    "print(\"The Last Line: \", lines[-1])"
   ]
  },
  {
   "cell_type": "code",
   "execution_count": 102,
   "metadata": {
    "colab": {
     "base_uri": "https://localhost:8080/",
     "height": 70
    },
    "id": "VdyGTfycuCWL",
    "outputId": "cf847d4d-0050-47bf-b766-13ebe11a54a8"
   },
   "outputs": [
    {
     "data": {
      "text/plain": [
       "'One morning, when Gregor Samsa woke from troubled dreams, he found himself transformed in his bed into a horrible vermin.  He lay on his armour-like back, and if he lifted his head a little he could see his brown belly, slightly domed and divided by arches into stiff sections.  The bedding was hardly able to cover it and seemed ready to slide off any moment.'"
      ]
     },
     "execution_count": 102,
     "metadata": {},
     "output_type": "execute_result"
    }
   ],
   "source": [
    "data = \"\"\n",
    "\n",
    "for i in lines:\n",
    "    data = ' '. join(lines)\n",
    "    \n",
    "data = data.replace('\\n', '').replace('\\r', '').replace('\\ufeff', '')\n",
    "data[:360]"
   ]
  },
  {
   "cell_type": "code",
   "execution_count": 52,
   "metadata": {
    "colab": {
     "base_uri": "https://localhost:8080/",
     "height": 88
    },
    "id": "tYocn_fmuGQ2",
    "outputId": "7adb7ef5-3dbe-48ba-9ff3-af28ba48b4df"
   },
   "outputs": [
    {
     "data": {
      "text/plain": [
       "'One morning  when Gregor Samsa woke from troubled dreams  he found himself transformed in his bed into a horrible vermin   He lay on his armour like back  and if he lifted his head a little he could see his brown belly  slightly domed and divided by arches into stiff sections   The bedding was hardly able to cover it and seemed ready to slide off any moment   His many legs  pitifully thin compared with the size of the rest of him  waved about helplessly as he looked    What s happened to me   he'"
      ]
     },
     "execution_count": 52,
     "metadata": {},
     "output_type": "execute_result"
    }
   ],
   "source": [
    "import string\n",
    "\n",
    "translator = str.maketrans(string.punctuation, ' '*len(string.punctuation)) #map punctuation to space\n",
    "new_data = data.translate(translator)\n",
    "\n",
    "new_data[:500]"
   ]
  },
  {
   "cell_type": "code",
   "execution_count": 53,
   "metadata": {
    "colab": {
     "base_uri": "https://localhost:8080/",
     "height": 88
    },
    "id": "OhSqLOV6uJ5-",
    "outputId": "b50802f5-7f2c-458b-86fd-32b4a36be4f4"
   },
   "outputs": [
    {
     "data": {
      "text/plain": [
       "'One morning, when Gregor Samsa woke from troubled dreams, he found himself transformed in his bed into a horrible vermin. He lay on armour-like back, and if lifted head little could see brown belly, slightly domed divided by arches stiff sections. The bedding was hardly able to cover it seemed ready slide off any moment. His many legs, pitifully thin compared with the size of rest him, waved about helplessly as looked. \"What\\'s happened me?\" thought. It wasn\\'t dream. room, proper human room altho'"
      ]
     },
     "execution_count": 53,
     "metadata": {},
     "output_type": "execute_result"
    }
   ],
   "source": [
    "z = []\n",
    "\n",
    "for i in data.split():\n",
    "    if i not in z:\n",
    "        z.append(i)\n",
    "        \n",
    "data = ' '.join(z)\n",
    "data[:500]"
   ]
  },
  {
   "cell_type": "code",
   "execution_count": 54,
   "metadata": {
    "colab": {
     "base_uri": "https://localhost:8080/"
    },
    "id": "R-VvqIniuM7s",
    "outputId": "945eaad1-c3ea-4748-d409-99012242ed94"
   },
   "outputs": [
    {
     "data": {
      "text/plain": [
       "[17, 53, 293, 2, 18, 729, 135, 730, 294, 8]"
      ]
     },
     "execution_count": 54,
     "metadata": {},
     "output_type": "execute_result"
    }
   ],
   "source": [
    "tokenizer = Tokenizer()\n",
    "tokenizer.fit_on_texts([data])\n",
    "\n",
    "# saving the tokenizer for predict function.\n",
    "pickle.dump(tokenizer, open('tokenizer1.pkl', 'wb'))\n",
    "\n",
    "sequence_data = tokenizer.texts_to_sequences([data])[0]\n",
    "sequence_data[:10]"
   ]
  },
  {
   "cell_type": "code",
   "execution_count": 55,
   "metadata": {
    "colab": {
     "base_uri": "https://localhost:8080/"
    },
    "id": "EdanLb6ouRBr",
    "outputId": "20e87113-7c29-41b0-b2fb-4391049ffced"
   },
   "outputs": [
    {
     "name": "stdout",
     "output_type": "stream",
     "text": [
      "2617\n"
     ]
    }
   ],
   "source": [
    "vocab_size = len(tokenizer.word_index) + 1\n",
    "print(vocab_size)"
   ]
  },
  {
   "cell_type": "code",
   "execution_count": 56,
   "metadata": {
    "colab": {
     "base_uri": "https://localhost:8080/"
    },
    "id": "rPGYBVPquTSn",
    "outputId": "371b04cb-ba5a-469b-f6c4-b9ff6f31ac2e"
   },
   "outputs": [
    {
     "name": "stdout",
     "output_type": "stream",
     "text": [
      "The Length of sequences are:  3889\n"
     ]
    },
    {
     "data": {
      "text/plain": [
       "array([[ 17,  53],\n",
       "       [ 53, 293],\n",
       "       [293,   2],\n",
       "       [  2,  18],\n",
       "       [ 18, 729],\n",
       "       [729, 135],\n",
       "       [135, 730],\n",
       "       [730, 294],\n",
       "       [294,   8],\n",
       "       [  8, 731]])"
      ]
     },
     "execution_count": 56,
     "metadata": {},
     "output_type": "execute_result"
    }
   ],
   "source": [
    "sequences = []\n",
    "\n",
    "for i in range(1, len(sequence_data)):\n",
    "    words = sequence_data[i-1:i+1]\n",
    "    sequences.append(words)\n",
    "    \n",
    "print(\"The Length of sequences are: \", len(sequences))\n",
    "sequences = np.array(sequences)\n",
    "sequences[:10]"
   ]
  },
  {
   "cell_type": "code",
   "execution_count": 57,
   "metadata": {
    "id": "jQCLU5VkuWwO"
   },
   "outputs": [],
   "source": [
    "X = []\n",
    "y = []\n",
    "\n",
    "for i in sequences:\n",
    "    X.append(i[0])\n",
    "    y.append(i[1])\n",
    "    \n",
    "X = np.array(X)\n",
    "y = np.array(y)"
   ]
  },
  {
   "cell_type": "code",
   "execution_count": 58,
   "metadata": {
    "colab": {
     "base_uri": "https://localhost:8080/"
    },
    "id": "KkgaiLVVueL1",
    "outputId": "f1bf2baa-13b6-4911-c3c0-54c5d3b6fdfa"
   },
   "outputs": [
    {
     "name": "stdout",
     "output_type": "stream",
     "text": [
      "The Data is:  [ 17  53 293   2  18]\n",
      "The responses are:  [ 53 293   2  18 729]\n"
     ]
    }
   ],
   "source": [
    "print(\"The Data is: \", X[:5])\n",
    "print(\"The responses are: \", y[:5])"
   ]
  },
  {
   "cell_type": "code",
   "execution_count": 59,
   "metadata": {
    "colab": {
     "base_uri": "https://localhost:8080/"
    },
    "id": "DUwFYJ01ug3Q",
    "outputId": "214a2788-24cf-4ff6-e83e-d3bd257e8202"
   },
   "outputs": [
    {
     "data": {
      "text/plain": [
       "array([[0., 0., 0., ..., 0., 0., 0.],\n",
       "       [0., 0., 0., ..., 0., 0., 0.],\n",
       "       [0., 0., 1., ..., 0., 0., 0.],\n",
       "       [0., 0., 0., ..., 0., 0., 0.],\n",
       "       [0., 0., 0., ..., 0., 0., 0.]], dtype=float32)"
      ]
     },
     "execution_count": 59,
     "metadata": {},
     "output_type": "execute_result"
    }
   ],
   "source": [
    "y = to_categorical(y, num_classes=vocab_size)\n",
    "y[:5]"
   ]
  },
  {
   "cell_type": "code",
   "execution_count": 60,
   "metadata": {
    "colab": {
     "base_uri": "https://localhost:8080/"
    },
    "id": "3qE-6-o6ukJx",
    "outputId": "549f5e77-d254-4a5f-98cb-b18864ced6d6"
   },
   "outputs": [
    {
     "name": "stdout",
     "output_type": "stream",
     "text": [
      "Model: \"sequential_1\"\n",
      "_________________________________________________________________\n",
      "Layer (type)                 Output Shape              Param #   \n",
      "=================================================================\n",
      "embedding_1 (Embedding)      (None, 1, 10)             26170     \n",
      "_________________________________________________________________\n",
      "lstm_2 (LSTM)                (None, 1, 1000)           4044000   \n",
      "_________________________________________________________________\n",
      "lstm_3 (LSTM)                (None, 1000)              8004000   \n",
      "_________________________________________________________________\n",
      "dense_2 (Dense)              (None, 1000)              1001000   \n",
      "_________________________________________________________________\n",
      "dense_3 (Dense)              (None, 2617)              2619617   \n",
      "=================================================================\n",
      "Total params: 15,694,787\n",
      "Trainable params: 15,694,787\n",
      "Non-trainable params: 0\n",
      "_________________________________________________________________\n"
     ]
    }
   ],
   "source": [
    "model = Sequential()\n",
    "model.add(Embedding(vocab_size, 10, input_length=1))\n",
    "model.add(LSTM(1000, return_sequences=True))\n",
    "model.add(LSTM(1000))\n",
    "model.add(Dense(1000, activation=\"relu\"))\n",
    "model.add(Dense(vocab_size, activation=\"softmax\"))\n",
    "\n",
    "model.summary()"
   ]
  },
  {
   "cell_type": "code",
   "execution_count": 61,
   "metadata": {
    "colab": {
     "base_uri": "https://localhost:8080/",
     "height": 564
    },
    "id": "7pQdbVtcusUb",
    "outputId": "68a064c8-55dc-47c7-e44f-fb03bf61edbb"
   },
   "outputs": [
    {
     "name": "stdout",
     "output_type": "stream",
     "text": [
      "Failed to import pydot. You must install pydot and graphviz for `pydotprint` to work.\n"
     ]
    }
   ],
   "source": [
    "from tensorflow import keras\n",
    "from keras.utils.vis_utils import plot_model\n",
    "\n",
    "keras.utils.plot_model(model, to_file='model.png', show_layer_names=True)"
   ]
  },
  {
   "cell_type": "code",
   "execution_count": 62,
   "metadata": {
    "id": "IFsQum59uvcz"
   },
   "outputs": [],
   "source": [
    "from tensorflow.keras.callbacks import ModelCheckpoint\n",
    "from tensorflow.keras.callbacks import ReduceLROnPlateau\n",
    "from tensorflow.keras.callbacks import TensorBoard\n",
    "\n",
    "checkpoint = ModelCheckpoint(\"nextword1.h5\", monitor='loss', verbose=1,\n",
    "    save_best_only=True, mode='auto')\n",
    "\n",
    "reduce = ReduceLROnPlateau(monitor='loss', factor=0.2, patience=3, min_lr=0.0001, verbose = 1)\n",
    "\n",
    "logdir='logsnextword1'\n",
    "tensorboard_Visualization = TensorBoard(log_dir=logdir)"
   ]
  },
  {
   "cell_type": "code",
   "execution_count": 69,
   "metadata": {
    "colab": {
     "base_uri": "https://localhost:8080/"
    },
    "id": "-NTfUULpu1gy",
    "outputId": "e8cf9b5b-045f-4893-da6b-a66ddd4172c4"
   },
   "outputs": [],
   "source": [
    "model.compile(loss=\"categorical_crossentropy\", optimizer=Adam(lr=0.001),metrics=['accuracy'])"
   ]
  },
  {
   "cell_type": "code",
   "execution_count": 70,
   "metadata": {
    "colab": {
     "base_uri": "https://localhost:8080/"
    },
    "id": "GMtkkgWau2zY",
    "outputId": "0cdcb084-da07-4b5c-d505-6ff713540972"
   },
   "outputs": [
    {
     "name": "stdout",
     "output_type": "stream",
     "text": [
      "Epoch 1/150\n",
      "61/61 [==============================] - ETA: 0s - loss: 3.6775 - accuracy: 0.1517\n",
      "Epoch 00001: loss did not improve from 3.20803\n",
      "61/61 [==============================] - 6s 95ms/step - loss: 3.6775 - accuracy: 0.1517 - lr: 0.0010\n",
      "Epoch 2/150\n",
      "61/61 [==============================] - ETA: 0s - loss: 3.2906 - accuracy: 0.2101\n",
      "Epoch 00002: loss did not improve from 3.20803\n",
      "61/61 [==============================] - 6s 99ms/step - loss: 3.2906 - accuracy: 0.2101 - lr: 0.0010\n",
      "Epoch 3/150\n",
      "61/61 [==============================] - ETA: 0s - loss: 3.0233 - accuracy: 0.2461\n",
      "Epoch 00003: loss improved from 3.20803 to 3.02331, saving model to nextword1.h5\n",
      "61/61 [==============================] - 6s 104ms/step - loss: 3.0233 - accuracy: 0.2461 - lr: 0.0010\n",
      "Epoch 4/150\n",
      "61/61 [==============================] - ETA: 0s - loss: 2.7764 - accuracy: 0.2803\n",
      "Epoch 00004: loss improved from 3.02331 to 2.77639, saving model to nextword1.h5\n",
      "61/61 [==============================] - 6s 105ms/step - loss: 2.7764 - accuracy: 0.2803 - lr: 0.0010\n",
      "Epoch 5/150\n",
      "61/61 [==============================] - ETA: 0s - loss: 2.5581 - accuracy: 0.3209\n",
      "Epoch 00005: loss improved from 2.77639 to 2.55812, saving model to nextword1.h5\n",
      "61/61 [==============================] - 6s 101ms/step - loss: 2.5581 - accuracy: 0.3209 - lr: 0.0010\n",
      "Epoch 6/150\n",
      "61/61 [==============================] - ETA: 0s - loss: 2.3597 - accuracy: 0.3502\n",
      "Epoch 00006: loss improved from 2.55812 to 2.35973, saving model to nextword1.h5\n",
      "61/61 [==============================] - 6s 102ms/step - loss: 2.3597 - accuracy: 0.3502 - lr: 0.0010\n",
      "Epoch 7/150\n",
      "61/61 [==============================] - ETA: 0s - loss: 2.1936 - accuracy: 0.3780\n",
      "Epoch 00007: loss improved from 2.35973 to 2.19359, saving model to nextword1.h5\n",
      "61/61 [==============================] - 6s 106ms/step - loss: 2.1936 - accuracy: 0.3780 - lr: 0.0010\n",
      "Epoch 8/150\n",
      "61/61 [==============================] - ETA: 0s - loss: 2.0371 - accuracy: 0.3932\n",
      "Epoch 00008: loss improved from 2.19359 to 2.03711, saving model to nextword1.h5\n",
      "61/61 [==============================] - 6s 103ms/step - loss: 2.0371 - accuracy: 0.3932 - lr: 0.0010\n",
      "Epoch 9/150\n",
      "61/61 [==============================] - ETA: 0s - loss: 1.9109 - accuracy: 0.4274\n",
      "Epoch 00009: loss improved from 2.03711 to 1.91091, saving model to nextword1.h5\n",
      "61/61 [==============================] - 6s 99ms/step - loss: 1.9109 - accuracy: 0.4274 - lr: 0.0010\n",
      "Epoch 10/150\n",
      "61/61 [==============================] - ETA: 0s - loss: 1.7875 - accuracy: 0.4454\n",
      "Epoch 00010: loss improved from 1.91091 to 1.78753, saving model to nextword1.h5\n",
      "61/61 [==============================] - 6s 102ms/step - loss: 1.7875 - accuracy: 0.4454 - lr: 0.0010\n",
      "Epoch 11/150\n",
      "61/61 [==============================] - ETA: 0s - loss: 1.7155 - accuracy: 0.4616\n",
      "Epoch 00011: loss improved from 1.78753 to 1.71548, saving model to nextword1.h5\n",
      "61/61 [==============================] - 6s 105ms/step - loss: 1.7155 - accuracy: 0.4616 - lr: 0.0010\n",
      "Epoch 12/150\n",
      "61/61 [==============================] - ETA: 0s - loss: 1.6230 - accuracy: 0.4796\n",
      "Epoch 00012: loss improved from 1.71548 to 1.62300, saving model to nextword1.h5\n",
      "61/61 [==============================] - 6s 101ms/step - loss: 1.6230 - accuracy: 0.4796 - lr: 0.0010\n",
      "Epoch 13/150\n",
      "61/61 [==============================] - ETA: 0s - loss: 1.5531 - accuracy: 0.4916\n",
      "Epoch 00013: loss improved from 1.62300 to 1.55312, saving model to nextword1.h5\n",
      "61/61 [==============================] - 6s 104ms/step - loss: 1.5531 - accuracy: 0.4916 - lr: 0.0010\n",
      "Epoch 14/150\n",
      "61/61 [==============================] - ETA: 0s - loss: 1.5007 - accuracy: 0.5022\n",
      "Epoch 00014: loss improved from 1.55312 to 1.50066, saving model to nextword1.h5\n",
      "61/61 [==============================] - 6s 102ms/step - loss: 1.5007 - accuracy: 0.5022 - lr: 0.0010\n",
      "Epoch 15/150\n",
      "61/61 [==============================] - ETA: 0s - loss: 1.4275 - accuracy: 0.5148\n",
      "Epoch 00015: loss improved from 1.50066 to 1.42754, saving model to nextword1.h5\n",
      "61/61 [==============================] - 6s 102ms/step - loss: 1.4275 - accuracy: 0.5148 - lr: 0.0010\n",
      "Epoch 16/150\n",
      "61/61 [==============================] - ETA: 0s - loss: 1.3729 - accuracy: 0.5174\n",
      "Epoch 00016: loss improved from 1.42754 to 1.37289, saving model to nextword1.h5\n",
      "61/61 [==============================] - 7s 108ms/step - loss: 1.3729 - accuracy: 0.5174 - lr: 0.0010\n",
      "Epoch 17/150\n",
      "61/61 [==============================] - ETA: 0s - loss: 1.3197 - accuracy: 0.5338\n",
      "Epoch 00017: loss improved from 1.37289 to 1.31967, saving model to nextword1.h5\n",
      "61/61 [==============================] - 8s 133ms/step - loss: 1.3197 - accuracy: 0.5338 - lr: 0.0010\n",
      "Epoch 18/150\n",
      "61/61 [==============================] - ETA: 0s - loss: 1.2639 - accuracy: 0.5441\n",
      "Epoch 00018: loss improved from 1.31967 to 1.26392, saving model to nextword1.h5\n",
      "61/61 [==============================] - 8s 131ms/step - loss: 1.2639 - accuracy: 0.5441 - lr: 0.0010\n",
      "Epoch 19/150\n",
      "61/61 [==============================] - ETA: 0s - loss: 1.2270 - accuracy: 0.5469\n",
      "Epoch 00019: loss improved from 1.26392 to 1.22703, saving model to nextword1.h5\n",
      "61/61 [==============================] - 8s 124ms/step - loss: 1.2270 - accuracy: 0.5469 - lr: 0.0010\n",
      "Epoch 20/150\n",
      "61/61 [==============================] - ETA: 0s - loss: 1.1990 - accuracy: 0.5546\n",
      "Epoch 00020: loss improved from 1.22703 to 1.19901, saving model to nextword1.h5\n",
      "61/61 [==============================] - 8s 127ms/step - loss: 1.1990 - accuracy: 0.5546 - lr: 0.0010\n",
      "Epoch 21/150\n",
      "61/61 [==============================] - ETA: 0s - loss: 1.1602 - accuracy: 0.5631\n",
      "Epoch 00021: loss improved from 1.19901 to 1.16023, saving model to nextword1.h5\n",
      "61/61 [==============================] - 7s 111ms/step - loss: 1.1602 - accuracy: 0.5631 - lr: 0.0010\n",
      "Epoch 22/150\n",
      "61/61 [==============================] - ETA: 0s - loss: 1.1204 - accuracy: 0.5631\n",
      "Epoch 00022: loss improved from 1.16023 to 1.12039, saving model to nextword1.h5\n",
      "61/61 [==============================] - 7s 111ms/step - loss: 1.1204 - accuracy: 0.5631 - lr: 0.0010\n",
      "Epoch 23/150\n",
      "61/61 [==============================] - ETA: 0s - loss: 1.1011 - accuracy: 0.5652\n",
      "Epoch 00023: loss improved from 1.12039 to 1.10109, saving model to nextword1.h5\n",
      "61/61 [==============================] - 7s 118ms/step - loss: 1.1011 - accuracy: 0.5652 - lr: 0.0010\n",
      "Epoch 24/150\n",
      "61/61 [==============================] - ETA: 0s - loss: 1.0868 - accuracy: 0.5626\n",
      "Epoch 00024: loss improved from 1.10109 to 1.08678, saving model to nextword1.h5\n",
      "61/61 [==============================] - 7s 113ms/step - loss: 1.0868 - accuracy: 0.5626 - lr: 0.0010\n",
      "Epoch 25/150\n",
      "61/61 [==============================] - ETA: 0s - loss: 1.0562 - accuracy: 0.5652\n",
      "Epoch 00025: loss improved from 1.08678 to 1.05620, saving model to nextword1.h5\n",
      "61/61 [==============================] - 7s 122ms/step - loss: 1.0562 - accuracy: 0.5652 - lr: 0.0010\n",
      "Epoch 26/150\n",
      "61/61 [==============================] - ETA: 0s - loss: 1.0556 - accuracy: 0.5698\n",
      "Epoch 00026: loss improved from 1.05620 to 1.05563, saving model to nextword1.h5\n",
      "61/61 [==============================] - 7s 110ms/step - loss: 1.0556 - accuracy: 0.5698 - lr: 0.0010\n",
      "Epoch 27/150\n",
      "61/61 [==============================] - ETA: 0s - loss: 1.0157 - accuracy: 0.5801\n",
      "Epoch 00027: loss improved from 1.05563 to 1.01575, saving model to nextword1.h5\n",
      "61/61 [==============================] - 7s 121ms/step - loss: 1.0157 - accuracy: 0.5801 - lr: 0.0010\n",
      "Epoch 28/150\n",
      "61/61 [==============================] - ETA: 0s - loss: 1.0074 - accuracy: 0.5762\n",
      "Epoch 00028: loss improved from 1.01575 to 1.00742, saving model to nextword1.h5\n",
      "61/61 [==============================] - 7s 115ms/step - loss: 1.0074 - accuracy: 0.5762 - lr: 0.0010\n",
      "Epoch 29/150\n",
      "61/61 [==============================] - ETA: 0s - loss: 0.9920 - accuracy: 0.5706\n",
      "Epoch 00029: loss improved from 1.00742 to 0.99201, saving model to nextword1.h5\n",
      "61/61 [==============================] - 7s 116ms/step - loss: 0.9920 - accuracy: 0.5706 - lr: 0.0010\n",
      "Epoch 30/150\n",
      "61/61 [==============================] - ETA: 0s - loss: 0.9754 - accuracy: 0.5750\n",
      "Epoch 00030: loss improved from 0.99201 to 0.97540, saving model to nextword1.h5\n",
      "61/61 [==============================] - 7s 111ms/step - loss: 0.9754 - accuracy: 0.5750 - lr: 0.0010\n"
     ]
    },
    {
     "name": "stdout",
     "output_type": "stream",
     "text": [
      "Epoch 31/150\n",
      "61/61 [==============================] - ETA: 0s - loss: 0.9574 - accuracy: 0.5796\n",
      "Epoch 00031: loss improved from 0.97540 to 0.95738, saving model to nextword1.h5\n",
      "61/61 [==============================] - 7s 117ms/step - loss: 0.9574 - accuracy: 0.5796 - lr: 0.0010\n",
      "Epoch 32/150\n",
      "61/61 [==============================] - ETA: 0s - loss: 0.9486 - accuracy: 0.5762\n",
      "Epoch 00032: loss improved from 0.95738 to 0.94857, saving model to nextword1.h5\n",
      "61/61 [==============================] - 7s 108ms/step - loss: 0.9486 - accuracy: 0.5762 - lr: 0.0010\n",
      "Epoch 33/150\n",
      "61/61 [==============================] - ETA: 0s - loss: 0.9400 - accuracy: 0.5791\n",
      "Epoch 00033: loss improved from 0.94857 to 0.93998, saving model to nextword1.h5\n",
      "61/61 [==============================] - 6s 103ms/step - loss: 0.9400 - accuracy: 0.5791 - lr: 0.0010\n",
      "Epoch 34/150\n",
      "61/61 [==============================] - ETA: 0s - loss: 0.9351 - accuracy: 0.5750\n",
      "Epoch 00034: loss improved from 0.93998 to 0.93514, saving model to nextword1.h5\n",
      "61/61 [==============================] - 6s 105ms/step - loss: 0.9351 - accuracy: 0.5750 - lr: 0.0010\n",
      "Epoch 35/150\n",
      "61/61 [==============================] - ETA: 0s - loss: 0.9179 - accuracy: 0.5778\n",
      "Epoch 00035: loss improved from 0.93514 to 0.91790, saving model to nextword1.h5\n",
      "61/61 [==============================] - 6s 102ms/step - loss: 0.9179 - accuracy: 0.5778 - lr: 0.0010\n",
      "Epoch 36/150\n",
      "61/61 [==============================] - ETA: 0s - loss: 0.9154 - accuracy: 0.5816\n",
      "Epoch 00036: loss improved from 0.91790 to 0.91541, saving model to nextword1.h5\n",
      "61/61 [==============================] - 6s 102ms/step - loss: 0.9154 - accuracy: 0.5816 - lr: 0.0010\n",
      "Epoch 37/150\n",
      "61/61 [==============================] - ETA: 0s - loss: 0.9059 - accuracy: 0.5778\n",
      "Epoch 00037: loss improved from 0.91541 to 0.90589, saving model to nextword1.h5\n",
      "61/61 [==============================] - 6s 100ms/step - loss: 0.9059 - accuracy: 0.5778 - lr: 0.0010\n",
      "Epoch 38/150\n",
      "61/61 [==============================] - ETA: 0s - loss: 0.9012 - accuracy: 0.5798\n",
      "Epoch 00038: loss improved from 0.90589 to 0.90120, saving model to nextword1.h5\n",
      "61/61 [==============================] - 6s 103ms/step - loss: 0.9012 - accuracy: 0.5798 - lr: 0.0010\n",
      "Epoch 39/150\n",
      "61/61 [==============================] - ETA: 0s - loss: 0.9006 - accuracy: 0.5793\n",
      "Epoch 00039: loss improved from 0.90120 to 0.90057, saving model to nextword1.h5\n",
      "61/61 [==============================] - 6s 103ms/step - loss: 0.9006 - accuracy: 0.5793 - lr: 0.0010\n",
      "Epoch 40/150\n",
      "61/61 [==============================] - ETA: 0s - loss: 0.8842 - accuracy: 0.5783\n",
      "Epoch 00040: loss improved from 0.90057 to 0.88415, saving model to nextword1.h5\n",
      "61/61 [==============================] - 6s 102ms/step - loss: 0.8842 - accuracy: 0.5783 - lr: 0.0010\n",
      "Epoch 41/150\n",
      "61/61 [==============================] - ETA: 0s - loss: 0.8827 - accuracy: 0.5780\n",
      "Epoch 00041: loss improved from 0.88415 to 0.88275, saving model to nextword1.h5\n",
      "61/61 [==============================] - 6s 101ms/step - loss: 0.8827 - accuracy: 0.5780 - lr: 0.0010\n",
      "Epoch 42/150\n",
      "61/61 [==============================] - ETA: 0s - loss: 0.8770 - accuracy: 0.5806\n",
      "Epoch 00042: loss improved from 0.88275 to 0.87700, saving model to nextword1.h5\n",
      "61/61 [==============================] - 6s 101ms/step - loss: 0.8770 - accuracy: 0.5806 - lr: 0.0010\n",
      "Epoch 43/150\n",
      "61/61 [==============================] - ETA: 0s - loss: 0.8655 - accuracy: 0.5798\n",
      "Epoch 00043: loss improved from 0.87700 to 0.86546, saving model to nextword1.h5\n",
      "61/61 [==============================] - 6s 102ms/step - loss: 0.8655 - accuracy: 0.5798 - lr: 0.0010\n",
      "Epoch 44/150\n",
      "61/61 [==============================] - ETA: 0s - loss: 0.8567 - accuracy: 0.5804\n",
      "Epoch 00044: loss improved from 0.86546 to 0.85666, saving model to nextword1.h5\n",
      "61/61 [==============================] - 7s 108ms/step - loss: 0.8567 - accuracy: 0.5804 - lr: 0.0010\n",
      "Epoch 45/150\n",
      "61/61 [==============================] - ETA: 0s - loss: 0.8569 - accuracy: 0.5824\n",
      "Epoch 00045: loss did not improve from 0.85666\n",
      "61/61 [==============================] - 6s 98ms/step - loss: 0.8569 - accuracy: 0.5824 - lr: 0.0010\n",
      "Epoch 46/150\n",
      "61/61 [==============================] - ETA: 0s - loss: 0.8549 - accuracy: 0.5773\n",
      "Epoch 00046: loss improved from 0.85666 to 0.85493, saving model to nextword1.h5\n",
      "61/61 [==============================] - 7s 108ms/step - loss: 0.8549 - accuracy: 0.5773 - lr: 0.0010\n",
      "Epoch 47/150\n",
      "61/61 [==============================] - ETA: 0s - loss: 0.8450 - accuracy: 0.5847\n",
      "Epoch 00047: loss improved from 0.85493 to 0.84503, saving model to nextword1.h5\n",
      "61/61 [==============================] - 6s 103ms/step - loss: 0.8450 - accuracy: 0.5847 - lr: 0.0010\n",
      "Epoch 48/150\n",
      "61/61 [==============================] - ETA: 0s - loss: 0.8430 - accuracy: 0.5783\n",
      "Epoch 00048: loss improved from 0.84503 to 0.84300, saving model to nextword1.h5\n",
      "61/61 [==============================] - 6s 103ms/step - loss: 0.8430 - accuracy: 0.5783 - lr: 0.0010\n",
      "Epoch 49/150\n",
      "61/61 [==============================] - ETA: 0s - loss: 0.8416 - accuracy: 0.5788\n",
      "Epoch 00049: loss improved from 0.84300 to 0.84164, saving model to nextword1.h5\n",
      "61/61 [==============================] - 6s 99ms/step - loss: 0.8416 - accuracy: 0.5788 - lr: 0.0010\n",
      "Epoch 50/150\n",
      "61/61 [==============================] - ETA: 0s - loss: 0.8317 - accuracy: 0.5816\n",
      "Epoch 00050: loss improved from 0.84164 to 0.83165, saving model to nextword1.h5\n",
      "61/61 [==============================] - 7s 112ms/step - loss: 0.8317 - accuracy: 0.5816 - lr: 0.0010\n",
      "Epoch 51/150\n",
      "61/61 [==============================] - ETA: 0s - loss: 0.8240 - accuracy: 0.5829\n",
      "Epoch 00051: loss improved from 0.83165 to 0.82403, saving model to nextword1.h5\n",
      "61/61 [==============================] - 7s 107ms/step - loss: 0.8240 - accuracy: 0.5829 - lr: 0.0010\n",
      "Epoch 52/150\n",
      "61/61 [==============================] - ETA: 0s - loss: 0.8336 - accuracy: 0.5881\n",
      "Epoch 00052: loss did not improve from 0.82403\n",
      "61/61 [==============================] - 6s 100ms/step - loss: 0.8336 - accuracy: 0.5881 - lr: 0.0010\n",
      "Epoch 53/150\n",
      "61/61 [==============================] - ETA: 0s - loss: 0.8243 - accuracy: 0.5770\n",
      "Epoch 00053: loss did not improve from 0.82403\n",
      "61/61 [==============================] - 6s 99ms/step - loss: 0.8243 - accuracy: 0.5770 - lr: 0.0010\n",
      "Epoch 54/150\n",
      "61/61 [==============================] - ETA: 0s - loss: 0.8152 - accuracy: 0.5783\n",
      "Epoch 00054: loss improved from 0.82403 to 0.81516, saving model to nextword1.h5\n",
      "61/61 [==============================] - 7s 109ms/step - loss: 0.8152 - accuracy: 0.5783 - lr: 0.0010\n",
      "Epoch 55/150\n",
      "61/61 [==============================] - ETA: 0s - loss: 0.8163 - accuracy: 0.5855\n",
      "Epoch 00055: loss did not improve from 0.81516\n",
      "61/61 [==============================] - 6s 98ms/step - loss: 0.8163 - accuracy: 0.5855 - lr: 0.0010\n",
      "Epoch 56/150\n",
      "61/61 [==============================] - ETA: 0s - loss: 0.8124 - accuracy: 0.5832\n",
      "Epoch 00056: loss improved from 0.81516 to 0.81235, saving model to nextword1.h5\n",
      "61/61 [==============================] - 7s 107ms/step - loss: 0.8124 - accuracy: 0.5832 - lr: 0.0010\n",
      "Epoch 57/150\n",
      "61/61 [==============================] - ETA: 0s - loss: 0.8172 - accuracy: 0.5760\n",
      "Epoch 00057: loss did not improve from 0.81235\n",
      "61/61 [==============================] - 6s 102ms/step - loss: 0.8172 - accuracy: 0.5760 - lr: 0.0010\n",
      "Epoch 58/150\n",
      "61/61 [==============================] - ETA: 0s - loss: 0.8117 - accuracy: 0.5768\n",
      "Epoch 00058: loss improved from 0.81235 to 0.81165, saving model to nextword1.h5\n",
      "61/61 [==============================] - 6s 105ms/step - loss: 0.8117 - accuracy: 0.5768 - lr: 0.0010\n",
      "Epoch 59/150\n",
      "61/61 [==============================] - ETA: 0s - loss: 0.8033 - accuracy: 0.5873\n",
      "Epoch 00059: loss improved from 0.81165 to 0.80329, saving model to nextword1.h5\n",
      "61/61 [==============================] - 6s 106ms/step - loss: 0.8033 - accuracy: 0.5873 - lr: 0.0010\n",
      "Epoch 60/150\n",
      "61/61 [==============================] - ETA: 0s - loss: 0.8009 - accuracy: 0.5827\n",
      "Epoch 00060: loss improved from 0.80329 to 0.80092, saving model to nextword1.h5\n",
      "61/61 [==============================] - 6s 103ms/step - loss: 0.8009 - accuracy: 0.5827 - lr: 0.0010\n"
     ]
    },
    {
     "name": "stdout",
     "output_type": "stream",
     "text": [
      "Epoch 61/150\n",
      "61/61 [==============================] - ETA: 0s - loss: 0.8024 - accuracy: 0.5816\n",
      "Epoch 00061: loss did not improve from 0.80092\n",
      "61/61 [==============================] - 6s 93ms/step - loss: 0.8024 - accuracy: 0.5816 - lr: 0.0010\n",
      "Epoch 62/150\n",
      "61/61 [==============================] - ETA: 0s - loss: 0.8000 - accuracy: 0.5783\n",
      "Epoch 00062: loss improved from 0.80092 to 0.80002, saving model to nextword1.h5\n",
      "61/61 [==============================] - 6s 106ms/step - loss: 0.8000 - accuracy: 0.5783 - lr: 0.0010\n",
      "Epoch 63/150\n",
      "61/61 [==============================] - ETA: 0s - loss: 0.7970 - accuracy: 0.5737\n",
      "Epoch 00063: loss improved from 0.80002 to 0.79701, saving model to nextword1.h5\n",
      "61/61 [==============================] - 7s 110ms/step - loss: 0.7970 - accuracy: 0.5737 - lr: 0.0010\n",
      "Epoch 64/150\n",
      "61/61 [==============================] - ETA: 0s - loss: 0.7846 - accuracy: 0.5783\n",
      "Epoch 00064: loss improved from 0.79701 to 0.78458, saving model to nextword1.h5\n",
      "61/61 [==============================] - 7s 110ms/step - loss: 0.7846 - accuracy: 0.5783 - lr: 0.0010\n",
      "Epoch 65/150\n",
      "61/61 [==============================] - ETA: 0s - loss: 0.7910 - accuracy: 0.5819\n",
      "Epoch 00065: loss did not improve from 0.78458\n",
      "61/61 [==============================] - 6s 100ms/step - loss: 0.7910 - accuracy: 0.5819 - lr: 0.0010\n",
      "Epoch 66/150\n",
      "61/61 [==============================] - ETA: 0s - loss: 0.7787 - accuracy: 0.5752\n",
      "Epoch 00066: loss improved from 0.78458 to 0.77874, saving model to nextword1.h5\n",
      "61/61 [==============================] - 7s 107ms/step - loss: 0.7787 - accuracy: 0.5752 - lr: 0.0010\n",
      "Epoch 67/150\n",
      "61/61 [==============================] - ETA: 0s - loss: 0.7843 - accuracy: 0.5814\n",
      "Epoch 00067: loss did not improve from 0.77874\n",
      "61/61 [==============================] - 6s 98ms/step - loss: 0.7843 - accuracy: 0.5814 - lr: 0.0010\n",
      "Epoch 68/150\n",
      "61/61 [==============================] - ETA: 0s - loss: 0.7778 - accuracy: 0.5816\n",
      "Epoch 00068: loss improved from 0.77874 to 0.77779, saving model to nextword1.h5\n",
      "61/61 [==============================] - 8s 127ms/step - loss: 0.7778 - accuracy: 0.5816 - lr: 0.0010\n",
      "Epoch 69/150\n",
      "61/61 [==============================] - ETA: 0s - loss: 0.7833 - accuracy: 0.5786\n",
      "Epoch 00069: loss did not improve from 0.77779\n",
      "61/61 [==============================] - 7s 109ms/step - loss: 0.7833 - accuracy: 0.5786 - lr: 0.0010\n",
      "Epoch 70/150\n",
      "61/61 [==============================] - ETA: 0s - loss: 0.7837 - accuracy: 0.5670\n",
      "Epoch 00070: loss did not improve from 0.77779\n",
      "61/61 [==============================] - 7s 107ms/step - loss: 0.7837 - accuracy: 0.5670 - lr: 0.0010\n",
      "Epoch 71/150\n",
      "61/61 [==============================] - ETA: 0s - loss: 0.7713 - accuracy: 0.5847\n",
      "Epoch 00071: loss improved from 0.77779 to 0.77126, saving model to nextword1.h5\n",
      "61/61 [==============================] - 7s 113ms/step - loss: 0.7713 - accuracy: 0.5847 - lr: 0.0010\n",
      "Epoch 72/150\n",
      "61/61 [==============================] - ETA: 0s - loss: 0.7770 - accuracy: 0.5791\n",
      "Epoch 00072: loss did not improve from 0.77126\n",
      "61/61 [==============================] - 6s 105ms/step - loss: 0.7770 - accuracy: 0.5791 - lr: 0.0010\n",
      "Epoch 73/150\n",
      "61/61 [==============================] - ETA: 0s - loss: 0.7770 - accuracy: 0.5755\n",
      "Epoch 00073: loss did not improve from 0.77126\n",
      "61/61 [==============================] - 6s 101ms/step - loss: 0.7770 - accuracy: 0.5755 - lr: 0.0010\n",
      "Epoch 74/150\n",
      "61/61 [==============================] - ETA: 0s - loss: 0.7751 - accuracy: 0.5822\n",
      "Epoch 00074: loss did not improve from 0.77126\n",
      "\n",
      "Epoch 00074: ReduceLROnPlateau reducing learning rate to 0.00020000000949949026.\n",
      "61/61 [==============================] - 6s 101ms/step - loss: 0.7751 - accuracy: 0.5822 - lr: 0.0010\n",
      "Epoch 75/150\n",
      "61/61 [==============================] - ETA: 0s - loss: 0.6527 - accuracy: 0.6356\n",
      "Epoch 00075: loss improved from 0.77126 to 0.65268, saving model to nextword1.h5\n",
      "61/61 [==============================] - 7s 112ms/step - loss: 0.6527 - accuracy: 0.6356 - lr: 2.0000e-04\n",
      "Epoch 76/150\n",
      "61/61 [==============================] - ETA: 0s - loss: 0.6410 - accuracy: 0.6277\n",
      "Epoch 00076: loss improved from 0.65268 to 0.64104, saving model to nextword1.h5\n",
      "61/61 [==============================] - 7s 108ms/step - loss: 0.6410 - accuracy: 0.6277 - lr: 2.0000e-04\n",
      "Epoch 77/150\n",
      "61/61 [==============================] - ETA: 0s - loss: 0.6362 - accuracy: 0.6156\n",
      "Epoch 00077: loss improved from 0.64104 to 0.63620, saving model to nextword1.h5\n",
      "61/61 [==============================] - 6s 106ms/step - loss: 0.6362 - accuracy: 0.6156 - lr: 2.0000e-04\n",
      "Epoch 78/150\n",
      "61/61 [==============================] - ETA: 0s - loss: 0.6336 - accuracy: 0.6081\n",
      "Epoch 00078: loss improved from 0.63620 to 0.63358, saving model to nextword1.h5\n",
      "61/61 [==============================] - 7s 116ms/step - loss: 0.6336 - accuracy: 0.6081 - lr: 2.0000e-04\n",
      "Epoch 79/150\n",
      "61/61 [==============================] - ETA: 0s - loss: 0.6315 - accuracy: 0.5999\n",
      "Epoch 00079: loss improved from 0.63358 to 0.63148, saving model to nextword1.h5\n",
      "61/61 [==============================] - 7s 117ms/step - loss: 0.6315 - accuracy: 0.5999 - lr: 2.0000e-04\n",
      "Epoch 80/150\n",
      "61/61 [==============================] - ETA: 0s - loss: 0.6315 - accuracy: 0.5953\n",
      "Epoch 00080: loss did not improve from 0.63148\n",
      "61/61 [==============================] - 6s 101ms/step - loss: 0.6315 - accuracy: 0.5953 - lr: 2.0000e-04\n",
      "Epoch 81/150\n",
      "61/61 [==============================] - ETA: 0s - loss: 0.6299 - accuracy: 0.5896\n",
      "Epoch 00081: loss improved from 0.63148 to 0.62990, saving model to nextword1.h5\n",
      "61/61 [==============================] - 7s 108ms/step - loss: 0.6299 - accuracy: 0.5896 - lr: 2.0000e-04\n",
      "Epoch 82/150\n",
      "61/61 [==============================] - ETA: 0s - loss: 0.6295 - accuracy: 0.5904\n",
      "Epoch 00082: loss improved from 0.62990 to 0.62952, saving model to nextword1.h5\n",
      "61/61 [==============================] - 7s 112ms/step - loss: 0.6295 - accuracy: 0.5904 - lr: 2.0000e-04\n",
      "Epoch 83/150\n",
      "61/61 [==============================] - ETA: 0s - loss: 0.6282 - accuracy: 0.5914\n",
      "Epoch 00083: loss improved from 0.62952 to 0.62821, saving model to nextword1.h5\n",
      "61/61 [==============================] - 7s 112ms/step - loss: 0.6282 - accuracy: 0.5914 - lr: 2.0000e-04\n",
      "Epoch 84/150\n",
      "61/61 [==============================] - ETA: 0s - loss: 0.6288 - accuracy: 0.5855\n",
      "Epoch 00084: loss did not improve from 0.62821\n",
      "61/61 [==============================] - 6s 103ms/step - loss: 0.6288 - accuracy: 0.5855 - lr: 2.0000e-04\n",
      "Epoch 85/150\n",
      "61/61 [==============================] - ETA: 0s - loss: 0.6282 - accuracy: 0.5811\n",
      "Epoch 00085: loss did not improve from 0.62821\n",
      "61/61 [==============================] - 6s 101ms/step - loss: 0.6282 - accuracy: 0.5811 - lr: 2.0000e-04\n",
      "Epoch 86/150\n",
      "61/61 [==============================] - ETA: 0s - loss: 0.6271 - accuracy: 0.5798\n",
      "Epoch 00086: loss improved from 0.62821 to 0.62707, saving model to nextword1.h5\n",
      "61/61 [==============================] - 7s 110ms/step - loss: 0.6271 - accuracy: 0.5798 - lr: 2.0000e-04\n",
      "Epoch 87/150\n",
      "61/61 [==============================] - ETA: 0s - loss: 0.6267 - accuracy: 0.5791\n",
      "Epoch 00087: loss improved from 0.62707 to 0.62667, saving model to nextword1.h5\n",
      "61/61 [==============================] - 7s 110ms/step - loss: 0.6267 - accuracy: 0.5791 - lr: 2.0000e-04\n",
      "Epoch 88/150\n",
      "61/61 [==============================] - ETA: 0s - loss: 0.6266 - accuracy: 0.5837\n",
      "Epoch 00088: loss improved from 0.62667 to 0.62664, saving model to nextword1.h5\n",
      "61/61 [==============================] - 7s 108ms/step - loss: 0.6266 - accuracy: 0.5837 - lr: 2.0000e-04\n",
      "Epoch 89/150\n",
      "61/61 [==============================] - ETA: 0s - loss: 0.6267 - accuracy: 0.5752\n",
      "Epoch 00089: loss did not improve from 0.62664\n",
      "61/61 [==============================] - 6s 102ms/step - loss: 0.6267 - accuracy: 0.5752 - lr: 2.0000e-04\n",
      "Epoch 90/150\n",
      "61/61 [==============================] - ETA: 0s - loss: 0.6261 - accuracy: 0.5840\n",
      "Epoch 00090: loss improved from 0.62664 to 0.62612, saving model to nextword1.h5\n",
      "61/61 [==============================] - 7s 113ms/step - loss: 0.6261 - accuracy: 0.5840 - lr: 2.0000e-04\n",
      "Epoch 91/150\n",
      "61/61 [==============================] - ETA: 0s - loss: 0.6263 - accuracy: 0.5863\n",
      "Epoch 00091: loss did not improve from 0.62612\n",
      "61/61 [==============================] - 6s 98ms/step - loss: 0.6263 - accuracy: 0.5863 - lr: 2.0000e-04\n",
      "Epoch 92/150\n",
      "61/61 [==============================] - ETA: 0s - loss: 0.6267 - accuracy: 0.5762\n",
      "Epoch 00092: loss did not improve from 0.62612\n",
      "61/61 [==============================] - 6s 106ms/step - loss: 0.6267 - accuracy: 0.5762 - lr: 2.0000e-04\n",
      "Epoch 93/150\n",
      "61/61 [==============================] - ETA: 0s - loss: 0.6258 - accuracy: 0.5755\n",
      "Epoch 00093: loss improved from 0.62612 to 0.62581, saving model to nextword1.h5\n",
      "61/61 [==============================] - 7s 110ms/step - loss: 0.6258 - accuracy: 0.5755 - lr: 2.0000e-04\n",
      "Epoch 94/150\n",
      "61/61 [==============================] - ETA: 0s - loss: 0.6266 - accuracy: 0.5845\n",
      "Epoch 00094: loss did not improve from 0.62581\n",
      "61/61 [==============================] - 6s 96ms/step - loss: 0.6266 - accuracy: 0.5845 - lr: 2.0000e-04\n",
      "Epoch 95/150\n",
      "61/61 [==============================] - ETA: 0s - loss: 0.6247 - accuracy: 0.5860\n",
      "Epoch 00095: loss improved from 0.62581 to 0.62474, saving model to nextword1.h5\n",
      "61/61 [==============================] - 6s 106ms/step - loss: 0.6247 - accuracy: 0.5860 - lr: 2.0000e-04\n",
      "Epoch 96/150\n",
      "61/61 [==============================] - ETA: 0s - loss: 0.6249 - accuracy: 0.5806\n",
      "Epoch 00096: loss did not improve from 0.62474\n",
      "61/61 [==============================] - 6s 98ms/step - loss: 0.6249 - accuracy: 0.5806 - lr: 2.0000e-04\n",
      "Epoch 97/150\n",
      "61/61 [==============================] - ETA: 0s - loss: 0.6246 - accuracy: 0.5827\n",
      "Epoch 00097: loss improved from 0.62474 to 0.62462, saving model to nextword1.h5\n",
      "61/61 [==============================] - 6s 105ms/step - loss: 0.6246 - accuracy: 0.5827 - lr: 2.0000e-04\n",
      "Epoch 98/150\n",
      "61/61 [==============================] - ETA: 0s - loss: 0.6243 - accuracy: 0.5865\n",
      "Epoch 00098: loss improved from 0.62462 to 0.62430, saving model to nextword1.h5\n",
      "61/61 [==============================] - 6s 105ms/step - loss: 0.6243 - accuracy: 0.5865 - lr: 2.0000e-04\n",
      "Epoch 99/150\n",
      "61/61 [==============================] - ETA: 0s - loss: 0.6244 - accuracy: 0.5750\n",
      "Epoch 00099: loss did not improve from 0.62430\n",
      "61/61 [==============================] - 6s 98ms/step - loss: 0.6244 - accuracy: 0.5750 - lr: 2.0000e-04\n",
      "Epoch 100/150\n",
      "61/61 [==============================] - ETA: 0s - loss: 0.6239 - accuracy: 0.5829\n",
      "Epoch 00100: loss improved from 0.62430 to 0.62385, saving model to nextword1.h5\n",
      "61/61 [==============================] - 7s 112ms/step - loss: 0.6239 - accuracy: 0.5829 - lr: 2.0000e-04\n",
      "Epoch 101/150\n",
      "61/61 [==============================] - ETA: 0s - loss: 0.6255 - accuracy: 0.5804\n",
      "Epoch 00101: loss did not improve from 0.62385\n",
      "61/61 [==============================] - 6s 101ms/step - loss: 0.6255 - accuracy: 0.5804 - lr: 2.0000e-04\n",
      "Epoch 102/150\n",
      "61/61 [==============================] - ETA: 0s - loss: 0.6239 - accuracy: 0.5791\n",
      "Epoch 00102: loss did not improve from 0.62385\n",
      "61/61 [==============================] - 6s 104ms/step - loss: 0.6239 - accuracy: 0.5791 - lr: 2.0000e-04\n",
      "Epoch 103/150\n",
      "61/61 [==============================] - ETA: 0s - loss: 0.6226 - accuracy: 0.5806\n",
      "Epoch 00103: loss improved from 0.62385 to 0.62256, saving model to nextword1.h5\n",
      "61/61 [==============================] - 7s 111ms/step - loss: 0.6226 - accuracy: 0.5806 - lr: 2.0000e-04\n",
      "Epoch 104/150\n",
      "61/61 [==============================] - ETA: 0s - loss: 0.6233 - accuracy: 0.5819\n",
      "Epoch 00104: loss did not improve from 0.62256\n",
      "61/61 [==============================] - 6s 106ms/step - loss: 0.6233 - accuracy: 0.5819 - lr: 2.0000e-04\n",
      "Epoch 105/150\n",
      "61/61 [==============================] - ETA: 0s - loss: 0.6231 - accuracy: 0.5762\n",
      "Epoch 00105: loss did not improve from 0.62256\n",
      "61/61 [==============================] - 6s 102ms/step - loss: 0.6231 - accuracy: 0.5762 - lr: 2.0000e-04\n",
      "Epoch 106/150\n",
      "61/61 [==============================] - ETA: 0s - loss: 0.6235 - accuracy: 0.5703\n",
      "Epoch 00106: loss did not improve from 0.62256\n",
      "\n",
      "Epoch 00106: ReduceLROnPlateau reducing learning rate to 0.0001.\n",
      "61/61 [==============================] - 6s 102ms/step - loss: 0.6235 - accuracy: 0.5703 - lr: 2.0000e-04\n",
      "Epoch 107/150\n",
      "61/61 [==============================] - ETA: 0s - loss: 0.6026 - accuracy: 0.5904\n",
      "Epoch 00107: loss improved from 0.62256 to 0.60263, saving model to nextword1.h5\n",
      "61/61 [==============================] - 7s 110ms/step - loss: 0.6026 - accuracy: 0.5904 - lr: 1.0000e-04\n",
      "Epoch 108/150\n",
      "61/61 [==============================] - ETA: 0s - loss: 0.6029 - accuracy: 0.5909\n",
      "Epoch 00108: loss did not improve from 0.60263\n",
      "61/61 [==============================] - 6s 104ms/step - loss: 0.6029 - accuracy: 0.5909 - lr: 1.0000e-04\n",
      "Epoch 109/150\n",
      "61/61 [==============================] - ETA: 0s - loss: 0.6028 - accuracy: 0.5855\n",
      "Epoch 00109: loss did not improve from 0.60263\n",
      "61/61 [==============================] - 6s 106ms/step - loss: 0.6028 - accuracy: 0.5855 - lr: 1.0000e-04\n",
      "Epoch 110/150\n",
      "61/61 [==============================] - ETA: 0s - loss: 0.6022 - accuracy: 0.5858\n",
      "Epoch 00110: loss improved from 0.60263 to 0.60225, saving model to nextword1.h5\n",
      "61/61 [==============================] - 7s 110ms/step - loss: 0.6022 - accuracy: 0.5858 - lr: 1.0000e-04\n",
      "Epoch 111/150\n",
      "61/61 [==============================] - ETA: 0s - loss: 0.6018 - accuracy: 0.5863\n",
      "Epoch 00111: loss improved from 0.60225 to 0.60181, saving model to nextword1.h5\n",
      "61/61 [==============================] - 7s 109ms/step - loss: 0.6018 - accuracy: 0.5863 - lr: 1.0000e-04\n",
      "Epoch 112/150\n",
      "61/61 [==============================] - ETA: 0s - loss: 0.6022 - accuracy: 0.5865\n",
      "Epoch 00112: loss did not improve from 0.60181\n",
      "61/61 [==============================] - 6s 99ms/step - loss: 0.6022 - accuracy: 0.5865 - lr: 1.0000e-04\n",
      "Epoch 113/150\n",
      "61/61 [==============================] - ETA: 0s - loss: 0.6021 - accuracy: 0.5847\n",
      "Epoch 00113: loss did not improve from 0.60181\n",
      "61/61 [==============================] - 6s 101ms/step - loss: 0.6021 - accuracy: 0.5847 - lr: 1.0000e-04\n",
      "Epoch 114/150\n",
      "61/61 [==============================] - ETA: 0s - loss: 0.6014 - accuracy: 0.5870\n",
      "Epoch 00114: loss improved from 0.60181 to 0.60139, saving model to nextword1.h5\n",
      "61/61 [==============================] - 6s 104ms/step - loss: 0.6014 - accuracy: 0.5870 - lr: 1.0000e-04\n",
      "Epoch 115/150\n",
      "61/61 [==============================] - ETA: 0s - loss: 0.6011 - accuracy: 0.5842\n",
      "Epoch 00115: loss improved from 0.60139 to 0.60109, saving model to nextword1.h5\n",
      "61/61 [==============================] - 6s 103ms/step - loss: 0.6011 - accuracy: 0.5842 - lr: 1.0000e-04\n",
      "Epoch 116/150\n",
      "61/61 [==============================] - ETA: 0s - loss: 0.6012 - accuracy: 0.5912\n",
      "Epoch 00116: loss did not improve from 0.60109\n",
      "61/61 [==============================] - 6s 99ms/step - loss: 0.6012 - accuracy: 0.5912 - lr: 1.0000e-04\n",
      "Epoch 117/150\n",
      "61/61 [==============================] - ETA: 0s - loss: 0.6015 - accuracy: 0.5881\n",
      "Epoch 00117: loss did not improve from 0.60109\n",
      "61/61 [==============================] - 6s 103ms/step - loss: 0.6015 - accuracy: 0.5881 - lr: 1.0000e-04\n",
      "Epoch 118/150\n",
      "61/61 [==============================] - ETA: 0s - loss: 0.6015 - accuracy: 0.5888\n",
      "Epoch 00118: loss did not improve from 0.60109\n",
      "61/61 [==============================] - 6s 104ms/step - loss: 0.6015 - accuracy: 0.5888 - lr: 1.0000e-04\n",
      "Epoch 119/150\n",
      "61/61 [==============================] - ETA: 0s - loss: 0.6014 - accuracy: 0.5804\n",
      "Epoch 00119: loss did not improve from 0.60109\n",
      "61/61 [==============================] - 7s 107ms/step - loss: 0.6014 - accuracy: 0.5804 - lr: 1.0000e-04\n",
      "Epoch 120/150\n",
      "61/61 [==============================] - ETA: 0s - loss: 0.6010 - accuracy: 0.5847\n",
      "Epoch 00120: loss improved from 0.60109 to 0.60099, saving model to nextword1.h5\n",
      "61/61 [==============================] - 7s 109ms/step - loss: 0.6010 - accuracy: 0.5847 - lr: 1.0000e-04\n",
      "Epoch 121/150\n",
      "61/61 [==============================] - ETA: 0s - loss: 0.6009 - accuracy: 0.5858\n",
      "Epoch 00121: loss improved from 0.60099 to 0.60088, saving model to nextword1.h5\n",
      "61/61 [==============================] - 7s 111ms/step - loss: 0.6009 - accuracy: 0.5858 - lr: 1.0000e-04\n"
     ]
    },
    {
     "name": "stdout",
     "output_type": "stream",
     "text": [
      "Epoch 122/150\n",
      "61/61 [==============================] - ETA: 0s - loss: 0.6008 - accuracy: 0.5829\n",
      "Epoch 00122: loss improved from 0.60088 to 0.60081, saving model to nextword1.h5\n",
      "61/61 [==============================] - 6s 103ms/step - loss: 0.6008 - accuracy: 0.5829 - lr: 1.0000e-04\n",
      "Epoch 123/150\n",
      "61/61 [==============================] - ETA: 0s - loss: 0.6005 - accuracy: 0.5778\n",
      "Epoch 00123: loss improved from 0.60081 to 0.60046, saving model to nextword1.h5\n",
      "61/61 [==============================] - 6s 101ms/step - loss: 0.6005 - accuracy: 0.5778 - lr: 1.0000e-04\n",
      "Epoch 124/150\n",
      "61/61 [==============================] - ETA: 0s - loss: 0.6008 - accuracy: 0.5888\n",
      "Epoch 00124: loss did not improve from 0.60046\n",
      "61/61 [==============================] - 6s 96ms/step - loss: 0.6008 - accuracy: 0.5888 - lr: 1.0000e-04\n",
      "Epoch 125/150\n",
      "61/61 [==============================] - ETA: 0s - loss: 0.5996 - accuracy: 0.5917\n",
      "Epoch 00125: loss improved from 0.60046 to 0.59960, saving model to nextword1.h5\n",
      "61/61 [==============================] - 6s 102ms/step - loss: 0.5996 - accuracy: 0.5917 - lr: 1.0000e-04\n",
      "Epoch 126/150\n",
      "61/61 [==============================] - ETA: 0s - loss: 0.6000 - accuracy: 0.5768\n",
      "Epoch 00126: loss did not improve from 0.59960\n",
      "61/61 [==============================] - 7s 118ms/step - loss: 0.6000 - accuracy: 0.5768 - lr: 1.0000e-04\n",
      "Epoch 127/150\n",
      "61/61 [==============================] - ETA: 0s - loss: 0.6006 - accuracy: 0.5798\n",
      "Epoch 00127: loss did not improve from 0.59960\n",
      "61/61 [==============================] - 7s 121ms/step - loss: 0.6006 - accuracy: 0.5798 - lr: 1.0000e-04\n",
      "Epoch 128/150\n",
      "61/61 [==============================] - ETA: 0s - loss: 0.6000 - accuracy: 0.5819\n",
      "Epoch 00128: loss did not improve from 0.59960\n",
      "61/61 [==============================] - 7s 108ms/step - loss: 0.6000 - accuracy: 0.5819 - lr: 1.0000e-04\n",
      "Epoch 129/150\n",
      "61/61 [==============================] - ETA: 0s - loss: 0.6003 - accuracy: 0.5878\n",
      "Epoch 00129: loss did not improve from 0.59960\n",
      "61/61 [==============================] - 6s 102ms/step - loss: 0.6003 - accuracy: 0.5878 - lr: 1.0000e-04\n",
      "Epoch 130/150\n",
      "61/61 [==============================] - ETA: 0s - loss: 0.6007 - accuracy: 0.5824\n",
      "Epoch 00130: loss did not improve from 0.59960\n",
      "61/61 [==============================] - 6s 99ms/step - loss: 0.6007 - accuracy: 0.5824 - lr: 1.0000e-04\n",
      "Epoch 131/150\n",
      "61/61 [==============================] - ETA: 0s - loss: 0.5997 - accuracy: 0.5865\n",
      "Epoch 00131: loss did not improve from 0.59960\n",
      "61/61 [==============================] - 6s 101ms/step - loss: 0.5997 - accuracy: 0.5865 - lr: 1.0000e-04\n",
      "Epoch 132/150\n",
      "61/61 [==============================] - ETA: 0s - loss: 0.5998 - accuracy: 0.5796\n",
      "Epoch 00132: loss did not improve from 0.59960\n",
      "61/61 [==============================] - 6s 107ms/step - loss: 0.5998 - accuracy: 0.5796 - lr: 1.0000e-04\n",
      "Epoch 133/150\n",
      "61/61 [==============================] - ETA: 0s - loss: 0.5992 - accuracy: 0.5876\n",
      "Epoch 00133: loss improved from 0.59960 to 0.59916, saving model to nextword1.h5\n",
      "61/61 [==============================] - 7s 111ms/step - loss: 0.5992 - accuracy: 0.5876 - lr: 1.0000e-04\n",
      "Epoch 134/150\n",
      "61/61 [==============================] - ETA: 0s - loss: 0.5989 - accuracy: 0.5786\n",
      "Epoch 00134: loss improved from 0.59916 to 0.59893, saving model to nextword1.h5\n",
      "61/61 [==============================] - 7s 118ms/step - loss: 0.5989 - accuracy: 0.5786 - lr: 1.0000e-04\n",
      "Epoch 135/150\n",
      "61/61 [==============================] - ETA: 0s - loss: 0.5996 - accuracy: 0.5757\n",
      "Epoch 00135: loss did not improve from 0.59893\n",
      "61/61 [==============================] - 6s 99ms/step - loss: 0.5996 - accuracy: 0.5757 - lr: 1.0000e-04\n",
      "Epoch 136/150\n",
      "61/61 [==============================] - ETA: 0s - loss: 0.5988 - accuracy: 0.5824\n",
      "Epoch 00136: loss improved from 0.59893 to 0.59876, saving model to nextword1.h5\n",
      "61/61 [==============================] - 6s 106ms/step - loss: 0.5988 - accuracy: 0.5824 - lr: 1.0000e-04\n",
      "Epoch 137/150\n",
      "61/61 [==============================] - ETA: 0s - loss: 0.5988 - accuracy: 0.5822\n",
      "Epoch 00137: loss did not improve from 0.59876\n",
      "61/61 [==============================] - 6s 103ms/step - loss: 0.5988 - accuracy: 0.5822 - lr: 1.0000e-04\n",
      "Epoch 138/150\n",
      "61/61 [==============================] - ETA: 0s - loss: 0.5988 - accuracy: 0.5829\n",
      "Epoch 00138: loss did not improve from 0.59876\n",
      "61/61 [==============================] - 7s 111ms/step - loss: 0.5988 - accuracy: 0.5829 - lr: 1.0000e-04\n",
      "Epoch 139/150\n",
      "61/61 [==============================] - ETA: 0s - loss: 0.5986 - accuracy: 0.5809\n",
      "Epoch 00139: loss improved from 0.59876 to 0.59856, saving model to nextword1.h5\n",
      "61/61 [==============================] - 7s 110ms/step - loss: 0.5986 - accuracy: 0.5809 - lr: 1.0000e-04\n",
      "Epoch 140/150\n",
      "61/61 [==============================] - ETA: 0s - loss: 0.5986 - accuracy: 0.5824\n",
      "Epoch 00140: loss did not improve from 0.59856\n",
      "61/61 [==============================] - 6s 105ms/step - loss: 0.5986 - accuracy: 0.5824 - lr: 1.0000e-04\n",
      "Epoch 141/150\n",
      "61/61 [==============================] - ETA: 0s - loss: 0.5987 - accuracy: 0.5721\n",
      "Epoch 00141: loss did not improve from 0.59856\n",
      "61/61 [==============================] - 7s 107ms/step - loss: 0.5987 - accuracy: 0.5721 - lr: 1.0000e-04\n",
      "Epoch 142/150\n",
      "61/61 [==============================] - ETA: 0s - loss: 0.5990 - accuracy: 0.5768\n",
      "Epoch 00142: loss did not improve from 0.59856\n",
      "61/61 [==============================] - 7s 108ms/step - loss: 0.5990 - accuracy: 0.5768 - lr: 1.0000e-04\n",
      "Epoch 143/150\n",
      "61/61 [==============================] - ETA: 0s - loss: 0.5985 - accuracy: 0.5742\n",
      "Epoch 00143: loss improved from 0.59856 to 0.59845, saving model to nextword1.h5\n",
      "61/61 [==============================] - 7s 114ms/step - loss: 0.5985 - accuracy: 0.5742 - lr: 1.0000e-04\n",
      "Epoch 144/150\n",
      "61/61 [==============================] - ETA: 0s - loss: 0.5987 - accuracy: 0.5865\n",
      "Epoch 00144: loss did not improve from 0.59845\n",
      "61/61 [==============================] - 7s 109ms/step - loss: 0.5987 - accuracy: 0.5865 - lr: 1.0000e-04\n",
      "Epoch 145/150\n",
      "61/61 [==============================] - ETA: 0s - loss: 0.5982 - accuracy: 0.5852\n",
      "Epoch 00145: loss improved from 0.59845 to 0.59823, saving model to nextword1.h5\n",
      "61/61 [==============================] - 7s 121ms/step - loss: 0.5982 - accuracy: 0.5852 - lr: 1.0000e-04\n",
      "Epoch 146/150\n",
      "61/61 [==============================] - ETA: 0s - loss: 0.5983 - accuracy: 0.5780\n",
      "Epoch 00146: loss did not improve from 0.59823\n",
      "61/61 [==============================] - 6s 106ms/step - loss: 0.5983 - accuracy: 0.5780 - lr: 1.0000e-04\n",
      "Epoch 147/150\n",
      "61/61 [==============================] - ETA: 0s - loss: 0.5977 - accuracy: 0.5783\n",
      "Epoch 00147: loss improved from 0.59823 to 0.59768, saving model to nextword1.h5\n",
      "61/61 [==============================] - 7s 111ms/step - loss: 0.5977 - accuracy: 0.5783 - lr: 1.0000e-04\n",
      "Epoch 148/150\n",
      "61/61 [==============================] - ETA: 0s - loss: 0.5979 - accuracy: 0.5852\n",
      "Epoch 00148: loss did not improve from 0.59768\n",
      "61/61 [==============================] - 7s 107ms/step - loss: 0.5979 - accuracy: 0.5852 - lr: 1.0000e-04\n",
      "Epoch 149/150\n",
      "61/61 [==============================] - ETA: 0s - loss: 0.5971 - accuracy: 0.5809\n",
      "Epoch 00149: loss improved from 0.59768 to 0.59712, saving model to nextword1.h5\n",
      "61/61 [==============================] - 7s 107ms/step - loss: 0.5971 - accuracy: 0.5809 - lr: 1.0000e-04\n",
      "Epoch 150/150\n",
      "61/61 [==============================] - ETA: 0s - loss: 0.5978 - accuracy: 0.5744\n",
      "Epoch 00150: loss did not improve from 0.59712\n",
      "61/61 [==============================] - 6s 106ms/step - loss: 0.5978 - accuracy: 0.5744 - lr: 1.0000e-04\n"
     ]
    }
   ],
   "source": [
    "history = model.fit(X, y, epochs=150, batch_size=64, callbacks=[checkpoint, reduce, tensorboard_Visualization])"
   ]
  },
  {
   "cell_type": "code",
   "execution_count": 76,
   "metadata": {},
   "outputs": [
    {
     "name": "stdout",
     "output_type": "stream",
     "text": [
      "dict_keys(['loss', 'accuracy', 'lr'])\n"
     ]
    }
   ],
   "source": [
    "print(history.history.keys())"
   ]
  },
  {
   "cell_type": "code",
   "execution_count": 77,
   "metadata": {},
   "outputs": [
    {
     "data": {
      "image/png": "[encoded data removed]",
      "text/plain": [
       "<Figure size 432x288 with 1 Axes>"
      ]
     },
     "metadata": {
      "needs_background": "light"
     },
     "output_type": "display_data"
    }
   ],
   "source": [
    "plt.plot(history.history['accuracy'])\n",
    "#plt.plot(history.history['val_accuracy'])\n",
    "plt.title('model accuracy')\n",
    "plt.ylabel('accuracy')\n",
    "plt.xlabel('epoch')\n",
    "plt.legend(['train', 'test'], loc='upper left')\n",
    "plt.show()"
   ]
  },
  {
   "cell_type": "code",
   "execution_count": 78,
   "metadata": {},
   "outputs": [
    {
     "data": {
      "image/png": "[encoded data removed]",
      "text/plain": [
       "<Figure size 432x288 with 1 Axes>"
      ]
     },
     "metadata": {
      "needs_background": "light"
     },
     "output_type": "display_data"
    }
   ],
   "source": [
    "plt.plot(history.history['loss'])\n",
    "plt.plot(history.history['lr'])\n",
    "plt.title('model loss')\n",
    "plt.ylabel('loss')\n",
    "plt.xlabel('epoch')\n",
    "plt.legend(['train', 'test'], loc='upper left')\n",
    "plt.show()"
   ]
  },
  {
   "cell_type": "code",
   "execution_count": 79,
   "metadata": {
    "id": "Tcvi4iC6yRBM"
   },
   "outputs": [],
   "source": [
    "# Importing the Libraries\n",
    "\n",
    "from tensorflow.keras.models import load_model\n",
    "import numpy as np\n",
    "import pickle\n",
    "\n",
    "# Load the model and tokenizer\n",
    "\n",
    "model = load_model('nextword1.h5')\n",
    "tokenizer = pickle.load(open('tokenizer1.pkl', 'rb'))\n",
    "\n",
    "def Predict_Next_Words(model, tokenizer, text):\n",
    "\n",
    "  for i in range(3):\n",
    "    sequence = tokenizer.texts_to_sequences([text])[0]\n",
    "    sequence = np.array(sequence)\n",
    "    \n",
    "    preds = model.predict_classes(sequence)\n",
    "#         print(preds)\n",
    "    predicted_word = \"\"\n",
    "    \n",
    "    for key, value in tokenizer.word_index.items():\n",
    "      if value == preds:\n",
    "        predicted_word = key\n",
    "        break\n",
    "    \n",
    "    #print(predicted_word)\n",
    "  return predicted_word"
   ]
  },
  {
   "cell_type": "code",
   "execution_count": null,
   "metadata": {
    "id": "aQko6_6RyTRx"
   },
   "outputs": [],
   "source": [
    "# EXAMPLES TO TYPE\n",
    "# text1 = \"at the dull\"\n",
    "# text2 = \"collection of textile\"\n",
    "# text3 = \"what a strenuous\"\n",
    "# text4 = \"stop the script\"\n",
    "\n",
    "while(True):\n",
    "  text = input(\"Enter your line: \")\n",
    "    \n",
    "  if text == \"stop\":\n",
    "    print(\"Ending The Program.....\")\n",
    "    break\n",
    "  \n",
    "  else:\n",
    "    try:\n",
    "      text = text.split(\" \")\n",
    "      text = text[-1]\n",
    "\n",
    "      text = ''.join(text)\n",
    "      pred_word = Predict_Next_Words(model, tokenizer, text)\n",
    "      print(pred_word)\n",
    "\n",
    "          \n",
    "    except:\n",
    "      continue\n"
   ]
  }
 ],
 "metadata": {
  "colab": {
   "name": "NLP_DEMO.ipynb",
   "provenance": []
  },
  "kernelspec": {
   "display_name": "Python 3",
   "language": "python",
   "name": "python3"
  },
  "language_info": {
   "codemirror_mode": {
    "name": "ipython",
    "version": 3
   },
   "file_extension": ".py",
   "mimetype": "text/x-python",
   "name": "python",
   "nbconvert_exporter": "python",
   "pygments_lexer": "ipython3",
   "version": "3.7.6"
  }
 },
 "nbformat": 4,
 "nbformat_minor": 1
}
