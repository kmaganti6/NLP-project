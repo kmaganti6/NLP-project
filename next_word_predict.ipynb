{
 "cells": [
  {
   "cell_type": "code",
   "execution_count": 1,
   "metadata": {
    "id": "xv1He7xdlsvR"
   },
   "outputs": [],
   "source": [
    "import tensorflow as tf\n",
    "from tensorflow.keras.preprocessing.text import Tokenizer\n",
    "from tensorflow.keras.layers import Embedding, LSTM, Dense\n",
    "from tensorflow.keras.models import Sequential\n",
    "from tensorflow.keras.utils import to_categorical\n",
    "from tensorflow.keras.optimizers import Adam\n",
    "import pickle\n",
    "import numpy as np\n",
    "import os\n",
    "import matplotlib.pyplot as plt"
   ]
  },
  {
   "cell_type": "code",
   "execution_count": 2,
   "metadata": {
    "colab": {
     "base_uri": "https://localhost:8080/"
    },
    "id": "5GlKEOVroQ3K",
    "outputId": "fb2888f7-f952-477a-b8db-e98888938aba"
   },
   "outputs": [
    {
     "name": "stdout",
     "output_type": "stream",
     "text": [
      "The First Line:  One morning, when Gregor Samsa woke from troubled dreams, he found\n",
      "\n",
      "The Last Line:  first to get up and stretch out her young body.\n"
     ]
    }
   ],
   "source": [
    "file = open(\"dataset.txt\", \"r\", encoding = \"utf8\")\n",
    "lines = []\n",
    "\n",
    "for i in file:\n",
    "    lines.append(i)\n",
    "    \n",
    "print(\"The First Line: \", lines[0])\n",
    "print(\"The Last Line: \", lines[-1])"
   ]
  },
  {
   "cell_type": "code",
   "execution_count": 3,
   "metadata": {
    "colab": {
     "base_uri": "https://localhost:8080/",
     "height": 70
    },
    "id": "VdyGTfycuCWL",
    "outputId": "cf847d4d-0050-47bf-b766-13ebe11a54a8"
   },
   "outputs": [
    {
     "data": {
      "text/plain": [
       "'One morning, when Gregor Samsa woke from troubled dreams, he found himself transformed in his bed into a horrible vermin.  He lay on his armour-like back, and if he lifted his head a little he could see his brown belly, slightly domed and divided by arches into stiff sections.  The bedding was hardly able to cover it and seemed ready to slide off any moment.'"
      ]
     },
     "execution_count": 3,
     "metadata": {},
     "output_type": "execute_result"
    }
   ],
   "source": [
    "data = \"\"\n",
    "\n",
    "for i in lines:\n",
    "    data = ' '. join(lines)\n",
    "    \n",
    "data = data.replace('\\n', '').replace('\\r', '').replace('\\ufeff', '')\n",
    "data[:360]"
   ]
  },
  {
   "cell_type": "code",
   "execution_count": 4,
   "metadata": {
    "colab": {
     "base_uri": "https://localhost:8080/",
     "height": 88
    },
    "id": "tYocn_fmuGQ2",
    "outputId": "7adb7ef5-3dbe-48ba-9ff3-af28ba48b4df"
   },
   "outputs": [
    {
     "data": {
      "text/plain": [
       "'One morning  when Gregor Samsa woke from troubled dreams  he found himself transformed in his bed into a horrible vermin   He lay on his armour like back  and if he lifted his head a little he could see his brown belly  slightly domed and divided by arches into stiff sections   The bedding was hardly able to cover it and seemed ready to slide off any moment   His many legs  pitifully thin compared with the size of the rest of him  waved about helplessly as he looked    What s happened to me   he'"
      ]
     },
     "execution_count": 4,
     "metadata": {},
     "output_type": "execute_result"
    }
   ],
   "source": [
    "import string\n",
    "\n",
    "translator = str.maketrans(string.punctuation, ' '*len(string.punctuation)) #map punctuation to space\n",
    "new_data = data.translate(translator)\n",
    "\n",
    "new_data[:500]"
   ]
  },
  {
   "cell_type": "code",
   "execution_count": 5,
   "metadata": {
    "colab": {
     "base_uri": "https://localhost:8080/",
     "height": 88
    },
    "id": "OhSqLOV6uJ5-",
    "outputId": "b50802f5-7f2c-458b-86fd-32b4a36be4f4"
   },
   "outputs": [
    {
     "data": {
      "text/plain": [
       "'One morning, when Gregor Samsa woke from troubled dreams, he found himself transformed in his bed into a horrible vermin. He lay on armour-like back, and if lifted head little could see brown belly, slightly domed divided by arches stiff sections. The bedding was hardly able to cover it seemed ready slide off any moment. His many legs, pitifully thin compared with the size of rest him, waved about helplessly as looked. \"What\\'s happened me?\" thought. It wasn\\'t dream. room, proper human room altho'"
      ]
     },
     "execution_count": 5,
     "metadata": {},
     "output_type": "execute_result"
    }
   ],
   "source": [
    "z = []\n",
    "\n",
    "for i in data.split():\n",
    "    if i not in z:\n",
    "        z.append(i)\n",
    "        \n",
    "data = ' '.join(z)\n",
    "data[:500]"
   ]
  },
  {
   "cell_type": "code",
   "execution_count": 6,
   "metadata": {
    "colab": {
     "base_uri": "https://localhost:8080/"
    },
    "id": "R-VvqIniuM7s",
    "outputId": "945eaad1-c3ea-4748-d409-99012242ed94"
   },
   "outputs": [
    {
     "data": {
      "text/plain": [
       "[17, 53, 293, 2, 18, 729, 135, 730, 294, 8]"
      ]
     },
     "execution_count": 6,
     "metadata": {},
     "output_type": "execute_result"
    }
   ],
   "source": [
    "tokenizer = Tokenizer()\n",
    "tokenizer.fit_on_texts([data])\n",
    "\n",
    "# saving the tokenizer for predict function.\n",
    "pickle.dump(tokenizer, open('tokenizer1.pkl', 'wb'))\n",
    "\n",
    "sequence_data = tokenizer.texts_to_sequences([data])[0]\n",
    "sequence_data[:10]"
   ]
  },
  {
   "cell_type": "code",
   "execution_count": 7,
   "metadata": {
    "colab": {
     "base_uri": "https://localhost:8080/"
    },
    "id": "EdanLb6ouRBr",
    "outputId": "20e87113-7c29-41b0-b2fb-4391049ffced"
   },
   "outputs": [
    {
     "name": "stdout",
     "output_type": "stream",
     "text": [
      "2617\n"
     ]
    }
   ],
   "source": [
    "vocab_size = len(tokenizer.word_index) + 1\n",
    "print(vocab_size)"
   ]
  },
  {
   "cell_type": "code",
   "execution_count": 8,
   "metadata": {
    "colab": {
     "base_uri": "https://localhost:8080/"
    },
    "id": "rPGYBVPquTSn",
    "outputId": "371b04cb-ba5a-469b-f6c4-b9ff6f31ac2e"
   },
   "outputs": [
    {
     "name": "stdout",
     "output_type": "stream",
     "text": [
      "The Length of sequences are:  3889\n"
     ]
    },
    {
     "data": {
      "text/plain": [
       "array([[ 17,  53],\n",
       "       [ 53, 293],\n",
       "       [293,   2],\n",
       "       [  2,  18],\n",
       "       [ 18, 729],\n",
       "       [729, 135],\n",
       "       [135, 730],\n",
       "       [730, 294],\n",
       "       [294,   8],\n",
       "       [  8, 731]])"
      ]
     },
     "execution_count": 8,
     "metadata": {},
     "output_type": "execute_result"
    }
   ],
   "source": [
    "sequences = []\n",
    "\n",
    "for i in range(1, len(sequence_data)):\n",
    "    words = sequence_data[i-1:i+1]\n",
    "    sequences.append(words)\n",
    "    \n",
    "print(\"The Length of sequences are: \", len(sequences))\n",
    "sequences = np.array(sequences)\n",
    "sequences[:10]"
   ]
  },
  {
   "cell_type": "code",
   "execution_count": 9,
   "metadata": {
    "id": "jQCLU5VkuWwO"
   },
   "outputs": [],
   "source": [
    "X = []\n",
    "y = []\n",
    "\n",
    "for i in sequences:\n",
    "    X.append(i[0])\n",
    "    y.append(i[1])\n",
    "    \n",
    "X = np.array(X)\n",
    "y = np.array(y)"
   ]
  },
  {
   "cell_type": "code",
   "execution_count": 10,
   "metadata": {
    "colab": {
     "base_uri": "https://localhost:8080/"
    },
    "id": "KkgaiLVVueL1",
    "outputId": "f1bf2baa-13b6-4911-c3c0-54c5d3b6fdfa"
   },
   "outputs": [
    {
     "name": "stdout",
     "output_type": "stream",
     "text": [
      "The Data is:  [ 17  53 293   2  18]\n",
      "The responses are:  [ 53 293   2  18 729]\n"
     ]
    }
   ],
   "source": [
    "print(\"The Data is: \", X[:5])\n",
    "print(\"The responses are: \", y[:5])"
   ]
  },
  {
   "cell_type": "code",
   "execution_count": 11,
   "metadata": {
    "colab": {
     "base_uri": "https://localhost:8080/"
    },
    "id": "DUwFYJ01ug3Q",
    "outputId": "214a2788-24cf-4ff6-e83e-d3bd257e8202"
   },
   "outputs": [
    {
     "data": {
      "text/plain": [
       "array([[0., 0., 0., ..., 0., 0., 0.],\n",
       "       [0., 0., 0., ..., 0., 0., 0.],\n",
       "       [0., 0., 1., ..., 0., 0., 0.],\n",
       "       [0., 0., 0., ..., 0., 0., 0.],\n",
       "       [0., 0., 0., ..., 0., 0., 0.]], dtype=float32)"
      ]
     },
     "execution_count": 11,
     "metadata": {},
     "output_type": "execute_result"
    }
   ],
   "source": [
    "y = to_categorical(y, num_classes=vocab_size)\n",
    "y[:5]"
   ]
  },
  {
   "cell_type": "code",
   "execution_count": 12,
   "metadata": {
    "colab": {
     "base_uri": "https://localhost:8080/"
    },
    "id": "3qE-6-o6ukJx",
    "outputId": "549f5e77-d254-4a5f-98cb-b18864ced6d6"
   },
   "outputs": [
    {
     "name": "stdout",
     "output_type": "stream",
     "text": [
      "Model: \"sequential\"\n",
      "_________________________________________________________________\n",
      "Layer (type)                 Output Shape              Param #   \n",
      "=================================================================\n",
      "embedding (Embedding)        (None, 1, 10)             26170     \n",
      "_________________________________________________________________\n",
      "lstm (LSTM)                  (None, 1, 1000)           4044000   \n",
      "_________________________________________________________________\n",
      "lstm_1 (LSTM)                (None, 1000)              8004000   \n",
      "_________________________________________________________________\n",
      "dense (Dense)                (None, 1000)              1001000   \n",
      "_________________________________________________________________\n",
      "dense_1 (Dense)              (None, 2617)              2619617   \n",
      "=================================================================\n",
      "Total params: 15,694,787\n",
      "Trainable params: 15,694,787\n",
      "Non-trainable params: 0\n",
      "_________________________________________________________________\n"
     ]
    }
   ],
   "source": [
    "model = Sequential()\n",
    "model.add(Embedding(vocab_size, 10, input_length=1))\n",
    "model.add(LSTM(1000, return_sequences=True))\n",
    "model.add(LSTM(1000))\n",
    "model.add(Dense(1000, activation=\"relu\"))\n",
    "model.add(Dense(vocab_size, activation=\"softmax\"))\n",
    "\n",
    "model.summary()"
   ]
  },
  {
   "cell_type": "code",
   "execution_count": 13,
   "metadata": {
    "colab": {
     "base_uri": "https://localhost:8080/",
     "height": 564
    },
    "id": "7pQdbVtcusUb",
    "outputId": "68a064c8-55dc-47c7-e44f-fb03bf61edbb"
   },
   "outputs": [
    {
     "name": "stdout",
     "output_type": "stream",
     "text": [
      "Failed to import pydot. You must install pydot and graphviz for `pydotprint` to work.\n"
     ]
    }
   ],
   "source": [
    "from tensorflow import keras\n",
    "from keras.utils.vis_utils import plot_model\n",
    "\n",
    "keras.utils.plot_model(model, to_file='model.png', show_layer_names=True)"
   ]
  },
  {
   "cell_type": "code",
   "execution_count": 14,
   "metadata": {
    "id": "IFsQum59uvcz"
   },
   "outputs": [],
   "source": [
    "from tensorflow.keras.callbacks import ModelCheckpoint\n",
    "from tensorflow.keras.callbacks import ReduceLROnPlateau\n",
    "from tensorflow.keras.callbacks import TensorBoard\n",
    "\n",
    "checkpoint = ModelCheckpoint(\"nextword.h5\", monitor='loss', verbose=1,\n",
    "    save_best_only=True, mode='auto')\n",
    "\n",
    "reduce = ReduceLROnPlateau(monitor='loss', factor=0.2, patience=3, min_lr=0.0001, verbose = 1)\n",
    "\n",
    "logdir='logsnextword1'\n",
    "tensorboard_Visualization = TensorBoard(log_dir=logdir)"
   ]
  },
  {
   "cell_type": "code",
   "execution_count": 15,
   "metadata": {
    "colab": {
     "base_uri": "https://localhost:8080/"
    },
    "id": "-NTfUULpu1gy",
    "outputId": "e8cf9b5b-045f-4893-da6b-a66ddd4172c4"
   },
   "outputs": [],
   "source": [
    "model.compile(loss=\"categorical_crossentropy\", optimizer=Adam(lr=0.001),metrics=['accuracy'])"
   ]
  },
  {
   "cell_type": "code",
   "execution_count": 16,
   "metadata": {
    "colab": {
     "base_uri": "https://localhost:8080/"
    },
    "id": "GMtkkgWau2zY",
    "outputId": "0cdcb084-da07-4b5c-d505-6ff713540972"
   },
   "outputs": [
    {
     "name": "stdout",
     "output_type": "stream",
     "text": [
      "Epoch 1/150\n",
      "61/61 [==============================] - ETA: 0s - loss: 7.8754 - accuracy: 0.0018\n",
      "Epoch 00001: loss improved from inf to 7.87540, saving model to nextword.h5\n",
      "61/61 [==============================] - 6s 97ms/step - loss: 7.8754 - accuracy: 0.0018 - lr: 0.0010\n",
      "Epoch 2/150\n",
      "61/61 [==============================] - ETA: 0s - loss: 7.8622 - accuracy: 0.0031\n",
      "Epoch 00002: loss improved from 7.87540 to 7.86217, saving model to nextword.h5\n",
      "61/61 [==============================] - 6s 93ms/step - loss: 7.8622 - accuracy: 0.0031 - lr: 0.0010\n",
      "Epoch 3/150\n",
      "61/61 [==============================] - ETA: 0s - loss: 7.8180 - accuracy: 0.0028\n",
      "Epoch 00003: loss improved from 7.86217 to 7.81803, saving model to nextword.h5\n",
      "61/61 [==============================] - 6s 92ms/step - loss: 7.8180 - accuracy: 0.0028 - lr: 0.0010\n",
      "Epoch 4/150\n",
      "61/61 [==============================] - ETA: 0s - loss: 7.6458 - accuracy: 0.0039\n",
      "Epoch 00004: loss improved from 7.81803 to 7.64582, saving model to nextword.h5\n",
      "61/61 [==============================] - 6s 92ms/step - loss: 7.6458 - accuracy: 0.0039 - lr: 0.0010\n",
      "Epoch 5/150\n",
      "61/61 [==============================] - ETA: 0s - loss: 7.4296 - accuracy: 0.0028\n",
      "Epoch 00005: loss improved from 7.64582 to 7.42962, saving model to nextword.h5\n",
      "61/61 [==============================] - 5s 90ms/step - loss: 7.4296 - accuracy: 0.0028 - lr: 0.0010\n",
      "Epoch 6/150\n",
      "61/61 [==============================] - ETA: 0s - loss: 7.2606 - accuracy: 0.0028\n",
      "Epoch 00006: loss improved from 7.42962 to 7.26058, saving model to nextword.h5\n",
      "61/61 [==============================] - 5s 84ms/step - loss: 7.2606 - accuracy: 0.0028 - lr: 0.0010\n",
      "Epoch 7/150\n",
      "61/61 [==============================] - ETA: 0s - loss: 7.1553 - accuracy: 0.0041\n",
      "Epoch 00007: loss improved from 7.26058 to 7.15531, saving model to nextword.h5\n",
      "61/61 [==============================] - 6s 94ms/step - loss: 7.1553 - accuracy: 0.0041 - lr: 0.0010\n",
      "Epoch 8/150\n",
      "61/61 [==============================] - ETA: 0s - loss: 7.0736 - accuracy: 0.0041\n",
      "Epoch 00008: loss improved from 7.15531 to 7.07355, saving model to nextword.h5\n",
      "61/61 [==============================] - 5s 88ms/step - loss: 7.0736 - accuracy: 0.0041 - lr: 0.0010\n",
      "Epoch 9/150\n",
      "61/61 [==============================] - ETA: 0s - loss: 6.9969 - accuracy: 0.0021\n",
      "Epoch 00009: loss improved from 7.07355 to 6.99695, saving model to nextword.h5\n",
      "61/61 [==============================] - 5s 84ms/step - loss: 6.9969 - accuracy: 0.0021 - lr: 0.0010\n",
      "Epoch 10/150\n",
      "61/61 [==============================] - ETA: 0s - loss: 6.9091 - accuracy: 0.0036\n",
      "Epoch 00010: loss improved from 6.99695 to 6.90915, saving model to nextword.h5\n",
      "61/61 [==============================] - 5s 85ms/step - loss: 6.9091 - accuracy: 0.0036 - lr: 0.0010\n",
      "Epoch 11/150\n",
      "61/61 [==============================] - ETA: 0s - loss: 6.7770 - accuracy: 0.0036\n",
      "Epoch 00011: loss improved from 6.90915 to 6.77700, saving model to nextword.h5\n",
      "61/61 [==============================] - 5s 85ms/step - loss: 6.7770 - accuracy: 0.0036 - lr: 0.0010\n",
      "Epoch 12/150\n",
      "61/61 [==============================] - ETA: 0s - loss: 6.6155 - accuracy: 0.0057\n",
      "Epoch 00012: loss improved from 6.77700 to 6.61554, saving model to nextword.h5\n",
      "61/61 [==============================] - 5s 84ms/step - loss: 6.6155 - accuracy: 0.0057 - lr: 0.0010\n",
      "Epoch 13/150\n",
      "61/61 [==============================] - ETA: 0s - loss: 6.4328 - accuracy: 0.0080\n",
      "Epoch 00013: loss improved from 6.61554 to 6.43282, saving model to nextword.h5\n",
      "61/61 [==============================] - 5s 85ms/step - loss: 6.4328 - accuracy: 0.0080 - lr: 0.0010\n",
      "Epoch 14/150\n",
      "61/61 [==============================] - ETA: 0s - loss: 6.2188 - accuracy: 0.0087\n",
      "Epoch 00014: loss improved from 6.43282 to 6.21879, saving model to nextword.h5\n",
      "61/61 [==============================] - 5s 88ms/step - loss: 6.2188 - accuracy: 0.0087 - lr: 0.0010\n",
      "Epoch 15/150\n",
      "61/61 [==============================] - ETA: 0s - loss: 6.0274 - accuracy: 0.0108\n",
      "Epoch 00015: loss improved from 6.21879 to 6.02735, saving model to nextword.h5\n",
      "61/61 [==============================] - 5s 88ms/step - loss: 6.0274 - accuracy: 0.0108 - lr: 0.0010\n",
      "Epoch 16/150\n",
      "61/61 [==============================] - ETA: 0s - loss: 5.8375 - accuracy: 0.0139\n",
      "Epoch 00016: loss improved from 6.02735 to 5.83751, saving model to nextword.h5\n",
      "61/61 [==============================] - 5s 87ms/step - loss: 5.8375 - accuracy: 0.0139 - lr: 0.0010\n",
      "Epoch 17/150\n",
      "61/61 [==============================] - ETA: 0s - loss: 5.6609 - accuracy: 0.0149\n",
      "Epoch 00017: loss improved from 5.83751 to 5.66093, saving model to nextword.h5\n",
      "61/61 [==============================] - 5s 87ms/step - loss: 5.6609 - accuracy: 0.0149 - lr: 0.0010\n",
      "Epoch 18/150\n",
      "61/61 [==============================] - ETA: 0s - loss: 5.5161 - accuracy: 0.0177\n",
      "Epoch 00018: loss improved from 5.66093 to 5.51608, saving model to nextword.h5\n",
      "61/61 [==============================] - 5s 88ms/step - loss: 5.5161 - accuracy: 0.0177 - lr: 0.0010\n",
      "Epoch 19/150\n",
      "61/61 [==============================] - ETA: 0s - loss: 5.4002 - accuracy: 0.0193\n",
      "Epoch 00019: loss improved from 5.51608 to 5.40023, saving model to nextword.h5\n",
      "61/61 [==============================] - 5s 87ms/step - loss: 5.4002 - accuracy: 0.0193 - lr: 0.0010\n",
      "Epoch 20/150\n",
      "61/61 [==============================] - ETA: 0s - loss: 5.2376 - accuracy: 0.0247\n",
      "Epoch 00020: loss improved from 5.40023 to 5.23760, saving model to nextword.h5\n",
      "61/61 [==============================] - 5s 88ms/step - loss: 5.2376 - accuracy: 0.0247 - lr: 0.0010\n",
      "Epoch 21/150\n",
      "61/61 [==============================] - ETA: 0s - loss: 5.1118 - accuracy: 0.0267\n",
      "Epoch 00021: loss improved from 5.23760 to 5.11180, saving model to nextword.h5\n",
      "61/61 [==============================] - 6s 91ms/step - loss: 5.1118 - accuracy: 0.0267 - lr: 0.0010\n",
      "Epoch 22/150\n",
      "61/61 [==============================] - ETA: 0s - loss: 4.9914 - accuracy: 0.0283\n",
      "Epoch 00022: loss improved from 5.11180 to 4.99135, saving model to nextword.h5\n",
      "61/61 [==============================] - 5s 88ms/step - loss: 4.9914 - accuracy: 0.0283 - lr: 0.0010\n",
      "Epoch 23/150\n",
      "61/61 [==============================] - ETA: 0s - loss: 4.8872 - accuracy: 0.0316\n",
      "Epoch 00023: loss improved from 4.99135 to 4.88719, saving model to nextword.h5\n",
      "61/61 [==============================] - 5s 88ms/step - loss: 4.8872 - accuracy: 0.0316 - lr: 0.0010\n",
      "Epoch 24/150\n",
      "61/61 [==============================] - ETA: 0s - loss: 4.8030 - accuracy: 0.0365\n",
      "Epoch 00024: loss improved from 4.88719 to 4.80305, saving model to nextword.h5\n",
      "61/61 [==============================] - 5s 87ms/step - loss: 4.8030 - accuracy: 0.0365 - lr: 0.0010\n",
      "Epoch 25/150\n",
      "61/61 [==============================] - ETA: 0s - loss: 4.6934 - accuracy: 0.0375\n",
      "Epoch 00025: loss improved from 4.80305 to 4.69343, saving model to nextword.h5\n",
      "61/61 [==============================] - 5s 89ms/step - loss: 4.6934 - accuracy: 0.0375 - lr: 0.0010\n",
      "Epoch 26/150\n",
      "61/61 [==============================] - ETA: 0s - loss: 4.6148 - accuracy: 0.0414\n",
      "Epoch 00026: loss improved from 4.69343 to 4.61478, saving model to nextword.h5\n",
      "61/61 [==============================] - 5s 90ms/step - loss: 4.6148 - accuracy: 0.0414 - lr: 0.0010\n",
      "Epoch 27/150\n",
      "61/61 [==============================] - ETA: 0s - loss: 4.5414 - accuracy: 0.0453\n",
      "Epoch 00027: loss improved from 4.61478 to 4.54136, saving model to nextword.h5\n",
      "61/61 [==============================] - 6s 94ms/step - loss: 4.5414 - accuracy: 0.0453 - lr: 0.0010\n",
      "Epoch 28/150\n",
      "61/61 [==============================] - ETA: 0s - loss: 4.4817 - accuracy: 0.0458\n",
      "Epoch 00028: loss improved from 4.54136 to 4.48171, saving model to nextword.h5\n",
      "61/61 [==============================] - 5s 89ms/step - loss: 4.4817 - accuracy: 0.0458 - lr: 0.0010\n",
      "Epoch 29/150\n",
      "61/61 [==============================] - ETA: 0s - loss: 4.4093 - accuracy: 0.0465\n",
      "Epoch 00029: loss improved from 4.48171 to 4.40932, saving model to nextword.h5\n",
      "61/61 [==============================] - 5s 88ms/step - loss: 4.4093 - accuracy: 0.0465 - lr: 0.0010\n",
      "Epoch 30/150\n",
      "61/61 [==============================] - ETA: 0s - loss: 4.3259 - accuracy: 0.0517\n",
      "Epoch 00030: loss improved from 4.40932 to 4.32594, saving model to nextword.h5\n"
     ]
    },
    {
     "name": "stdout",
     "output_type": "stream",
     "text": [
      "61/61 [==============================] - 5s 87ms/step - loss: 4.3259 - accuracy: 0.0517 - lr: 0.0010\n",
      "Epoch 31/150\n",
      "61/61 [==============================] - ETA: 0s - loss: 4.2554 - accuracy: 0.0550\n",
      "Epoch 00031: loss improved from 4.32594 to 4.25544, saving model to nextword.h5\n",
      "61/61 [==============================] - 5s 84ms/step - loss: 4.2554 - accuracy: 0.0550 - lr: 0.0010\n",
      "Epoch 32/150\n",
      "61/61 [==============================] - ETA: 0s - loss: 4.2023 - accuracy: 0.0625\n",
      "Epoch 00032: loss improved from 4.25544 to 4.20227, saving model to nextword.h5\n",
      "61/61 [==============================] - 5s 83ms/step - loss: 4.2023 - accuracy: 0.0625 - lr: 0.0010\n",
      "Epoch 33/150\n",
      "61/61 [==============================] - ETA: 0s - loss: 4.1462 - accuracy: 0.0622\n",
      "Epoch 00033: loss improved from 4.20227 to 4.14617, saving model to nextword.h5\n",
      "61/61 [==============================] - 5s 84ms/step - loss: 4.1462 - accuracy: 0.0622 - lr: 0.0010\n",
      "Epoch 34/150\n",
      "61/61 [==============================] - ETA: 0s - loss: 4.0721 - accuracy: 0.0684\n",
      "Epoch 00034: loss improved from 4.14617 to 4.07210, saving model to nextword.h5\n",
      "61/61 [==============================] - 5s 84ms/step - loss: 4.0721 - accuracy: 0.0684 - lr: 0.0010\n",
      "Epoch 35/150\n",
      "61/61 [==============================] - ETA: 0s - loss: 4.0372 - accuracy: 0.0741\n",
      "Epoch 00035: loss improved from 4.07210 to 4.03725, saving model to nextword.h5\n",
      "61/61 [==============================] - 5s 84ms/step - loss: 4.0372 - accuracy: 0.0741 - lr: 0.0010\n",
      "Epoch 36/150\n",
      "61/61 [==============================] - ETA: 0s - loss: 3.9712 - accuracy: 0.0743\n",
      "Epoch 00036: loss improved from 4.03725 to 3.97120, saving model to nextword.h5\n",
      "61/61 [==============================] - 5s 84ms/step - loss: 3.9712 - accuracy: 0.0743 - lr: 0.0010\n",
      "Epoch 37/150\n",
      "61/61 [==============================] - ETA: 0s - loss: 3.8874 - accuracy: 0.0813\n",
      "Epoch 00037: loss improved from 3.97120 to 3.88744, saving model to nextword.h5\n",
      "61/61 [==============================] - 5s 85ms/step - loss: 3.8874 - accuracy: 0.0813 - lr: 0.0010\n",
      "Epoch 38/150\n",
      "61/61 [==============================] - ETA: 0s - loss: 3.8170 - accuracy: 0.0892\n",
      "Epoch 00038: loss improved from 3.88744 to 3.81697, saving model to nextword.h5\n",
      "61/61 [==============================] - 5s 84ms/step - loss: 3.8170 - accuracy: 0.0892 - lr: 0.0010\n",
      "Epoch 39/150\n",
      "61/61 [==============================] - ETA: 0s - loss: 3.7439 - accuracy: 0.0923\n",
      "Epoch 00039: loss improved from 3.81697 to 3.74392, saving model to nextword.h5\n",
      "61/61 [==============================] - 5s 85ms/step - loss: 3.7439 - accuracy: 0.0923 - lr: 0.0010\n",
      "Epoch 40/150\n",
      "61/61 [==============================] - ETA: 0s - loss: 3.6753 - accuracy: 0.1075\n",
      "Epoch 00040: loss improved from 3.74392 to 3.67533, saving model to nextword.h5\n",
      "61/61 [==============================] - 5s 84ms/step - loss: 3.6753 - accuracy: 0.1075 - lr: 0.0010\n",
      "Epoch 41/150\n",
      "61/61 [==============================] - ETA: 0s - loss: 3.5852 - accuracy: 0.1106\n",
      "Epoch 00041: loss improved from 3.67533 to 3.58515, saving model to nextword.h5\n",
      "61/61 [==============================] - 5s 84ms/step - loss: 3.5852 - accuracy: 0.1106 - lr: 0.0010\n",
      "Epoch 42/150\n",
      "61/61 [==============================] - ETA: 0s - loss: 3.5063 - accuracy: 0.1245\n",
      "Epoch 00042: loss improved from 3.58515 to 3.50632, saving model to nextword.h5\n",
      "61/61 [==============================] - 5s 84ms/step - loss: 3.5063 - accuracy: 0.1245 - lr: 0.0010\n",
      "Epoch 43/150\n",
      "61/61 [==============================] - ETA: 0s - loss: 3.4305 - accuracy: 0.1273\n",
      "Epoch 00043: loss improved from 3.50632 to 3.43053, saving model to nextword.h5\n",
      "61/61 [==============================] - 5s 85ms/step - loss: 3.4305 - accuracy: 0.1273 - lr: 0.0010\n",
      "Epoch 44/150\n",
      "61/61 [==============================] - ETA: 0s - loss: 3.3425 - accuracy: 0.1422\n",
      "Epoch 00044: loss improved from 3.43053 to 3.34254, saving model to nextword.h5\n",
      "61/61 [==============================] - 5s 83ms/step - loss: 3.3425 - accuracy: 0.1422 - lr: 0.0010\n",
      "Epoch 45/150\n",
      "61/61 [==============================] - ETA: 0s - loss: 3.2807 - accuracy: 0.1538\n",
      "Epoch 00045: loss improved from 3.34254 to 3.28068, saving model to nextword.h5\n",
      "61/61 [==============================] - 5s 85ms/step - loss: 3.2807 - accuracy: 0.1538 - lr: 0.0010\n",
      "Epoch 46/150\n",
      "61/61 [==============================] - ETA: 0s - loss: 3.2321 - accuracy: 0.1581\n",
      "Epoch 00046: loss improved from 3.28068 to 3.23213, saving model to nextword.h5\n",
      "61/61 [==============================] - 5s 83ms/step - loss: 3.2321 - accuracy: 0.1581 - lr: 0.0010\n",
      "Epoch 47/150\n",
      "61/61 [==============================] - ETA: 0s - loss: 3.1137 - accuracy: 0.1746\n",
      "Epoch 00047: loss improved from 3.23213 to 3.11372, saving model to nextword.h5\n",
      "61/61 [==============================] - 5s 84ms/step - loss: 3.1137 - accuracy: 0.1746 - lr: 0.0010\n",
      "Epoch 48/150\n",
      "61/61 [==============================] - ETA: 0s - loss: 3.0433 - accuracy: 0.1833\n",
      "Epoch 00048: loss improved from 3.11372 to 3.04334, saving model to nextword.h5\n",
      "61/61 [==============================] - 5s 84ms/step - loss: 3.0433 - accuracy: 0.1833 - lr: 0.0010\n",
      "Epoch 49/150\n",
      "61/61 [==============================] - ETA: 0s - loss: 2.9537 - accuracy: 0.2026\n",
      "Epoch 00049: loss improved from 3.04334 to 2.95367, saving model to nextword.h5\n",
      "61/61 [==============================] - 5s 86ms/step - loss: 2.9537 - accuracy: 0.2026 - lr: 0.0010\n",
      "Epoch 50/150\n",
      "61/61 [==============================] - ETA: 0s - loss: 2.8777 - accuracy: 0.2075\n",
      "Epoch 00050: loss improved from 2.95367 to 2.87770, saving model to nextword.h5\n",
      "61/61 [==============================] - 5s 84ms/step - loss: 2.8777 - accuracy: 0.2075 - lr: 0.0010\n",
      "Epoch 51/150\n",
      "61/61 [==============================] - ETA: 0s - loss: 2.8272 - accuracy: 0.2080\n",
      "Epoch 00051: loss improved from 2.87770 to 2.82723, saving model to nextword.h5\n",
      "61/61 [==============================] - 5s 87ms/step - loss: 2.8272 - accuracy: 0.2080 - lr: 0.0010\n",
      "Epoch 52/150\n",
      "61/61 [==============================] - ETA: 0s - loss: 2.7488 - accuracy: 0.2265\n",
      "Epoch 00052: loss improved from 2.82723 to 2.74881, saving model to nextword.h5\n",
      "61/61 [==============================] - 5s 85ms/step - loss: 2.7488 - accuracy: 0.2265 - lr: 0.0010\n",
      "Epoch 53/150\n",
      "61/61 [==============================] - ETA: 0s - loss: 2.6797 - accuracy: 0.2350\n",
      "Epoch 00053: loss improved from 2.74881 to 2.67975, saving model to nextword.h5\n",
      "61/61 [==============================] - 5s 85ms/step - loss: 2.6797 - accuracy: 0.2350 - lr: 0.0010\n",
      "Epoch 54/150\n",
      "61/61 [==============================] - ETA: 0s - loss: 2.6111 - accuracy: 0.2530\n",
      "Epoch 00054: loss improved from 2.67975 to 2.61109, saving model to nextword.h5\n",
      "61/61 [==============================] - 5s 85ms/step - loss: 2.6111 - accuracy: 0.2530 - lr: 0.0010\n",
      "Epoch 55/150\n",
      "61/61 [==============================] - ETA: 0s - loss: 2.5462 - accuracy: 0.2533\n",
      "Epoch 00055: loss improved from 2.61109 to 2.54623, saving model to nextword.h5\n",
      "61/61 [==============================] - 5s 85ms/step - loss: 2.5462 - accuracy: 0.2533 - lr: 0.0010\n",
      "Epoch 56/150\n",
      "61/61 [==============================] - ETA: 0s - loss: 2.5145 - accuracy: 0.2594\n",
      "Epoch 00056: loss improved from 2.54623 to 2.51451, saving model to nextword.h5\n",
      "61/61 [==============================] - 5s 85ms/step - loss: 2.5145 - accuracy: 0.2594 - lr: 0.0010\n",
      "Epoch 57/150\n",
      "61/61 [==============================] - ETA: 0s - loss: 2.4547 - accuracy: 0.2677\n",
      "Epoch 00057: loss improved from 2.51451 to 2.45467, saving model to nextword.h5\n",
      "61/61 [==============================] - 5s 86ms/step - loss: 2.4547 - accuracy: 0.2677 - lr: 0.0010\n",
      "Epoch 58/150\n",
      "61/61 [==============================] - ETA: 0s - loss: 2.4112 - accuracy: 0.2782\n",
      "Epoch 00058: loss improved from 2.45467 to 2.41124, saving model to nextword.h5\n",
      "61/61 [==============================] - 5s 84ms/step - loss: 2.4112 - accuracy: 0.2782 - lr: 0.0010\n",
      "Epoch 59/150\n",
      "61/61 [==============================] - ETA: 0s - loss: 2.3455 - accuracy: 0.2913\n",
      "Epoch 00059: loss improved from 2.41124 to 2.34553, saving model to nextword.h5\n",
      "61/61 [==============================] - 5s 88ms/step - loss: 2.3455 - accuracy: 0.2913 - lr: 0.0010\n",
      "Epoch 60/150\n"
     ]
    },
    {
     "name": "stdout",
     "output_type": "stream",
     "text": [
      "61/61 [==============================] - ETA: 0s - loss: 2.2889 - accuracy: 0.3016\n",
      "Epoch 00060: loss improved from 2.34553 to 2.28891, saving model to nextword.h5\n",
      "61/61 [==============================] - 6s 91ms/step - loss: 2.2889 - accuracy: 0.3016 - lr: 0.0010\n",
      "Epoch 61/150\n",
      "61/61 [==============================] - ETA: 0s - loss: 2.2675 - accuracy: 0.3026\n",
      "Epoch 00061: loss improved from 2.28891 to 2.26747, saving model to nextword.h5\n",
      "61/61 [==============================] - 5s 88ms/step - loss: 2.2675 - accuracy: 0.3026 - lr: 0.0010\n",
      "Epoch 62/150\n",
      "61/61 [==============================] - ETA: 0s - loss: 2.2217 - accuracy: 0.3065\n",
      "Epoch 00062: loss improved from 2.26747 to 2.22170, saving model to nextword.h5\n",
      "61/61 [==============================] - 5s 85ms/step - loss: 2.2217 - accuracy: 0.3065 - lr: 0.0010\n",
      "Epoch 63/150\n",
      "61/61 [==============================] - ETA: 0s - loss: 2.1665 - accuracy: 0.3260\n",
      "Epoch 00063: loss improved from 2.22170 to 2.16649, saving model to nextword.h5\n",
      "61/61 [==============================] - 5s 84ms/step - loss: 2.1665 - accuracy: 0.3260 - lr: 0.0010\n",
      "Epoch 64/150\n",
      "61/61 [==============================] - ETA: 0s - loss: 2.1156 - accuracy: 0.3374\n",
      "Epoch 00064: loss improved from 2.16649 to 2.11565, saving model to nextword.h5\n",
      "61/61 [==============================] - 5s 86ms/step - loss: 2.1156 - accuracy: 0.3374 - lr: 0.0010\n",
      "Epoch 65/150\n",
      "61/61 [==============================] - ETA: 0s - loss: 2.1014 - accuracy: 0.3407\n",
      "Epoch 00065: loss improved from 2.11565 to 2.10138, saving model to nextword.h5\n",
      "61/61 [==============================] - 5s 84ms/step - loss: 2.1014 - accuracy: 0.3407 - lr: 0.0010\n",
      "Epoch 66/150\n",
      "61/61 [==============================] - ETA: 0s - loss: 2.0845 - accuracy: 0.3361\n",
      "Epoch 00066: loss improved from 2.10138 to 2.08451, saving model to nextword.h5\n",
      "61/61 [==============================] - 5s 86ms/step - loss: 2.0845 - accuracy: 0.3361 - lr: 0.0010\n",
      "Epoch 67/150\n",
      "61/61 [==============================] - ETA: 0s - loss: 2.0467 - accuracy: 0.3492\n",
      "Epoch 00067: loss improved from 2.08451 to 2.04674, saving model to nextword.h5\n",
      "61/61 [==============================] - 5s 85ms/step - loss: 2.0467 - accuracy: 0.3492 - lr: 0.0010\n",
      "Epoch 68/150\n",
      "61/61 [==============================] - ETA: 0s - loss: 1.9938 - accuracy: 0.3716\n",
      "Epoch 00068: loss improved from 2.04674 to 1.99381, saving model to nextword.h5\n",
      "61/61 [==============================] - 5s 85ms/step - loss: 1.9938 - accuracy: 0.3716 - lr: 0.0010\n",
      "Epoch 69/150\n",
      "61/61 [==============================] - ETA: 0s - loss: 1.9643 - accuracy: 0.3646\n",
      "Epoch 00069: loss improved from 1.99381 to 1.96434, saving model to nextword.h5\n",
      "61/61 [==============================] - 5s 85ms/step - loss: 1.9643 - accuracy: 0.3646 - lr: 0.0010\n",
      "Epoch 70/150\n",
      "61/61 [==============================] - ETA: 0s - loss: 1.9447 - accuracy: 0.3780\n",
      "Epoch 00070: loss improved from 1.96434 to 1.94472, saving model to nextword.h5\n",
      "61/61 [==============================] - 5s 85ms/step - loss: 1.9447 - accuracy: 0.3780 - lr: 0.0010\n",
      "Epoch 71/150\n",
      "61/61 [==============================] - ETA: 0s - loss: 1.9186 - accuracy: 0.3757\n",
      "Epoch 00071: loss improved from 1.94472 to 1.91859, saving model to nextword.h5\n",
      "61/61 [==============================] - 5s 85ms/step - loss: 1.9186 - accuracy: 0.3757 - lr: 0.0010\n",
      "Epoch 72/150\n",
      "61/61 [==============================] - ETA: 0s - loss: 1.9051 - accuracy: 0.3865\n",
      "Epoch 00072: loss improved from 1.91859 to 1.90505, saving model to nextword.h5\n",
      "61/61 [==============================] - 5s 86ms/step - loss: 1.9051 - accuracy: 0.3865 - lr: 0.0010\n",
      "Epoch 73/150\n",
      "61/61 [==============================] - ETA: 0s - loss: 1.9110 - accuracy: 0.3852\n",
      "Epoch 00073: loss did not improve from 1.90505\n",
      "61/61 [==============================] - 5s 81ms/step - loss: 1.9110 - accuracy: 0.3852 - lr: 0.0010\n",
      "Epoch 74/150\n",
      "61/61 [==============================] - ETA: 0s - loss: 1.8677 - accuracy: 0.3757\n",
      "Epoch 00074: loss improved from 1.90505 to 1.86771, saving model to nextword.h5\n",
      "61/61 [==============================] - 5s 89ms/step - loss: 1.8677 - accuracy: 0.3757 - lr: 0.0010\n",
      "Epoch 75/150\n",
      "61/61 [==============================] - ETA: 0s - loss: 1.8234 - accuracy: 0.3921\n",
      "Epoch 00075: loss improved from 1.86771 to 1.82336, saving model to nextword.h5\n",
      "61/61 [==============================] - 5s 89ms/step - loss: 1.8234 - accuracy: 0.3921 - lr: 0.0010\n",
      "Epoch 76/150\n",
      "61/61 [==============================] - ETA: 0s - loss: 1.7940 - accuracy: 0.4088\n",
      "Epoch 00076: loss improved from 1.82336 to 1.79396, saving model to nextword.h5\n",
      "61/61 [==============================] - 5s 86ms/step - loss: 1.7940 - accuracy: 0.4088 - lr: 0.0010\n",
      "Epoch 77/150\n",
      "61/61 [==============================] - ETA: 0s - loss: 1.7739 - accuracy: 0.4009\n",
      "Epoch 00077: loss improved from 1.79396 to 1.77390, saving model to nextword.h5\n",
      "61/61 [==============================] - 5s 88ms/step - loss: 1.7739 - accuracy: 0.4009 - lr: 0.0010\n",
      "Epoch 78/150\n",
      "61/61 [==============================] - ETA: 0s - loss: 1.7640 - accuracy: 0.4040\n",
      "Epoch 00078: loss improved from 1.77390 to 1.76402, saving model to nextword.h5\n",
      "61/61 [==============================] - 5s 88ms/step - loss: 1.7640 - accuracy: 0.4040 - lr: 0.0010\n",
      "Epoch 79/150\n",
      "61/61 [==============================] - ETA: 0s - loss: 1.7187 - accuracy: 0.4178\n",
      "Epoch 00079: loss improved from 1.76402 to 1.71871, saving model to nextword.h5\n",
      "61/61 [==============================] - 5s 90ms/step - loss: 1.7187 - accuracy: 0.4178 - lr: 0.0010\n",
      "Epoch 80/150\n",
      "61/61 [==============================] - ETA: 0s - loss: 1.7317 - accuracy: 0.4094\n",
      "Epoch 00080: loss did not improve from 1.71871\n",
      "61/61 [==============================] - 5s 84ms/step - loss: 1.7317 - accuracy: 0.4094 - lr: 0.0010\n",
      "Epoch 81/150\n",
      "61/61 [==============================] - ETA: 0s - loss: 1.7182 - accuracy: 0.4171\n",
      "Epoch 00081: loss improved from 1.71871 to 1.71817, saving model to nextword.h5\n",
      "61/61 [==============================] - 5s 89ms/step - loss: 1.7182 - accuracy: 0.4171 - lr: 0.0010\n",
      "Epoch 82/150\n",
      "61/61 [==============================] - ETA: 0s - loss: 1.6957 - accuracy: 0.4168\n",
      "Epoch 00082: loss improved from 1.71817 to 1.69573, saving model to nextword.h5\n",
      "61/61 [==============================] - 5s 89ms/step - loss: 1.6957 - accuracy: 0.4168 - lr: 0.0010\n",
      "Epoch 83/150\n",
      "61/61 [==============================] - ETA: 0s - loss: 1.6579 - accuracy: 0.4325\n",
      "Epoch 00083: loss improved from 1.69573 to 1.65787, saving model to nextword.h5\n",
      "61/61 [==============================] - 6s 93ms/step - loss: 1.6579 - accuracy: 0.4325 - lr: 0.0010\n",
      "Epoch 84/150\n",
      "61/61 [==============================] - ETA: 0s - loss: 1.6488 - accuracy: 0.4266\n",
      "Epoch 00084: loss improved from 1.65787 to 1.64884, saving model to nextword.h5\n",
      "61/61 [==============================] - 6s 91ms/step - loss: 1.6488 - accuracy: 0.4266 - lr: 0.0010\n",
      "Epoch 85/150\n",
      "61/61 [==============================] - ETA: 0s - loss: 1.6235 - accuracy: 0.4389\n",
      "Epoch 00085: loss improved from 1.64884 to 1.62349, saving model to nextword.h5\n",
      "61/61 [==============================] - 5s 89ms/step - loss: 1.6235 - accuracy: 0.4389 - lr: 0.0010\n",
      "Epoch 86/150\n",
      "61/61 [==============================] - ETA: 0s - loss: 1.5992 - accuracy: 0.4405\n",
      "Epoch 00086: loss improved from 1.62349 to 1.59916, saving model to nextword.h5\n",
      "61/61 [==============================] - 5s 88ms/step - loss: 1.5992 - accuracy: 0.4405 - lr: 0.0010\n",
      "Epoch 87/150\n",
      "61/61 [==============================] - ETA: 0s - loss: 1.5873 - accuracy: 0.4425\n",
      "Epoch 00087: loss improved from 1.59916 to 1.58734, saving model to nextword.h5\n",
      "61/61 [==============================] - 5s 90ms/step - loss: 1.5873 - accuracy: 0.4425 - lr: 0.0010\n",
      "Epoch 88/150\n",
      "61/61 [==============================] - ETA: 0s - loss: 1.5739 - accuracy: 0.4443\n",
      "Epoch 00088: loss improved from 1.58734 to 1.57389, saving model to nextword.h5\n",
      "61/61 [==============================] - 5s 89ms/step - loss: 1.5739 - accuracy: 0.4443 - lr: 0.0010\n",
      "Epoch 89/150\n",
      "61/61 [==============================] - ETA: 0s - loss: 1.5715 - accuracy: 0.4472\n",
      "Epoch 00089: loss improved from 1.57389 to 1.57152, saving model to nextword.h5\n",
      "61/61 [==============================] - 5s 88ms/step - loss: 1.5715 - accuracy: 0.4472 - lr: 0.0010\n"
     ]
    },
    {
     "name": "stdout",
     "output_type": "stream",
     "text": [
      "Epoch 90/150\n",
      "61/61 [==============================] - ETA: 0s - loss: 1.5385 - accuracy: 0.4531\n",
      "Epoch 00090: loss improved from 1.57152 to 1.53853, saving model to nextword.h5\n",
      "61/61 [==============================] - 5s 84ms/step - loss: 1.5385 - accuracy: 0.4531 - lr: 0.0010\n",
      "Epoch 91/150\n",
      "61/61 [==============================] - ETA: 0s - loss: 1.5438 - accuracy: 0.4608\n",
      "Epoch 00091: loss did not improve from 1.53853\n",
      "61/61 [==============================] - 5s 80ms/step - loss: 1.5438 - accuracy: 0.4608 - lr: 0.0010\n",
      "Epoch 92/150\n",
      "61/61 [==============================] - ETA: 0s - loss: 1.5179 - accuracy: 0.4680\n",
      "Epoch 00092: loss improved from 1.53853 to 1.51789, saving model to nextword.h5\n",
      "61/61 [==============================] - 5s 84ms/step - loss: 1.5179 - accuracy: 0.4680 - lr: 0.0010\n",
      "Epoch 93/150\n",
      "61/61 [==============================] - ETA: 0s - loss: 1.5075 - accuracy: 0.4634\n",
      "Epoch 00093: loss improved from 1.51789 to 1.50747, saving model to nextword.h5\n",
      "61/61 [==============================] - 5s 84ms/step - loss: 1.5075 - accuracy: 0.4634 - lr: 0.0010\n",
      "Epoch 94/150\n",
      "61/61 [==============================] - ETA: 0s - loss: 1.5004 - accuracy: 0.4724\n",
      "Epoch 00094: loss improved from 1.50747 to 1.50037, saving model to nextword.h5\n",
      "61/61 [==============================] - 5s 85ms/step - loss: 1.5004 - accuracy: 0.4724 - lr: 0.0010\n",
      "Epoch 95/150\n",
      "61/61 [==============================] - ETA: 0s - loss: 1.4777 - accuracy: 0.4742\n",
      "Epoch 00095: loss improved from 1.50037 to 1.47766, saving model to nextword.h5\n",
      "61/61 [==============================] - 5s 84ms/step - loss: 1.4777 - accuracy: 0.4742 - lr: 0.0010\n",
      "Epoch 96/150\n",
      "61/61 [==============================] - ETA: 0s - loss: 1.4293 - accuracy: 0.4837\n",
      "Epoch 00096: loss improved from 1.47766 to 1.42928, saving model to nextword.h5\n",
      "61/61 [==============================] - 5s 85ms/step - loss: 1.4293 - accuracy: 0.4837 - lr: 0.0010\n",
      "Epoch 97/150\n",
      "61/61 [==============================] - ETA: 0s - loss: 1.4063 - accuracy: 0.4947\n",
      "Epoch 00097: loss improved from 1.42928 to 1.40632, saving model to nextword.h5\n",
      "61/61 [==============================] - 5s 86ms/step - loss: 1.4063 - accuracy: 0.4947 - lr: 0.0010\n",
      "Epoch 98/150\n",
      "61/61 [==============================] - ETA: 0s - loss: 1.3898 - accuracy: 0.4929\n",
      "Epoch 00098: loss improved from 1.40632 to 1.38975, saving model to nextword.h5\n",
      "61/61 [==============================] - 5s 83ms/step - loss: 1.3898 - accuracy: 0.4929 - lr: 0.0010\n",
      "Epoch 99/150\n",
      "61/61 [==============================] - ETA: 0s - loss: 1.3507 - accuracy: 0.5066\n",
      "Epoch 00099: loss improved from 1.38975 to 1.35068, saving model to nextword.h5\n",
      "61/61 [==============================] - 5s 85ms/step - loss: 1.3507 - accuracy: 0.5066 - lr: 0.0010\n",
      "Epoch 100/150\n",
      "61/61 [==============================] - ETA: 0s - loss: 1.3373 - accuracy: 0.5081\n",
      "Epoch 00100: loss improved from 1.35068 to 1.33733, saving model to nextword.h5\n",
      "61/61 [==============================] - 5s 84ms/step - loss: 1.3373 - accuracy: 0.5081 - lr: 0.0010\n",
      "Epoch 101/150\n",
      "61/61 [==============================] - ETA: 0s - loss: 1.3547 - accuracy: 0.5120\n",
      "Epoch 00101: loss did not improve from 1.33733\n",
      "61/61 [==============================] - 5s 81ms/step - loss: 1.3547 - accuracy: 0.5120 - lr: 0.0010\n",
      "Epoch 102/150\n",
      "61/61 [==============================] - ETA: 0s - loss: 1.3270 - accuracy: 0.5140\n",
      "Epoch 00102: loss improved from 1.33733 to 1.32700, saving model to nextword.h5\n",
      "61/61 [==============================] - 5s 86ms/step - loss: 1.3270 - accuracy: 0.5140 - lr: 0.0010\n",
      "Epoch 103/150\n",
      "61/61 [==============================] - ETA: 0s - loss: 1.3463 - accuracy: 0.5050\n",
      "Epoch 00103: loss did not improve from 1.32700\n",
      "61/61 [==============================] - 6s 96ms/step - loss: 1.3463 - accuracy: 0.5050 - lr: 0.0010\n",
      "Epoch 104/150\n",
      "61/61 [==============================] - ETA: 0s - loss: 1.3249 - accuracy: 0.5117\n",
      "Epoch 00104: loss improved from 1.32700 to 1.32486, saving model to nextword.h5\n",
      "61/61 [==============================] - 6s 96ms/step - loss: 1.3249 - accuracy: 0.5117 - lr: 0.0010\n",
      "Epoch 105/150\n",
      "61/61 [==============================] - ETA: 0s - loss: 1.3113 - accuracy: 0.5194\n",
      "Epoch 00105: loss improved from 1.32486 to 1.31134, saving model to nextword.h5\n",
      "61/61 [==============================] - 5s 89ms/step - loss: 1.3113 - accuracy: 0.5194 - lr: 0.0010\n",
      "Epoch 106/150\n",
      "61/61 [==============================] - ETA: 0s - loss: 1.3069 - accuracy: 0.5194\n",
      "Epoch 00106: loss improved from 1.31134 to 1.30686, saving model to nextword.h5\n",
      "61/61 [==============================] - 6s 93ms/step - loss: 1.3069 - accuracy: 0.5194 - lr: 0.0010\n",
      "Epoch 107/150\n",
      "61/61 [==============================] - ETA: 0s - loss: 1.2768 - accuracy: 0.5210\n",
      "Epoch 00107: loss improved from 1.30686 to 1.27677, saving model to nextword.h5\n",
      "61/61 [==============================] - 6s 93ms/step - loss: 1.2768 - accuracy: 0.5210 - lr: 0.0010\n",
      "Epoch 108/150\n",
      "61/61 [==============================] - ETA: 0s - loss: 1.2779 - accuracy: 0.5276\n",
      "Epoch 00108: loss did not improve from 1.27677\n",
      "61/61 [==============================] - 5s 86ms/step - loss: 1.2779 - accuracy: 0.5276 - lr: 0.0010\n",
      "Epoch 109/150\n",
      "61/61 [==============================] - ETA: 0s - loss: 1.2705 - accuracy: 0.5225\n",
      "Epoch 00109: loss improved from 1.27677 to 1.27051, saving model to nextword.h5\n",
      "61/61 [==============================] - 6s 92ms/step - loss: 1.2705 - accuracy: 0.5225 - lr: 0.0010\n",
      "Epoch 110/150\n",
      "61/61 [==============================] - ETA: 0s - loss: 1.2835 - accuracy: 0.5246\n",
      "Epoch 00110: loss did not improve from 1.27051\n",
      "61/61 [==============================] - 5s 83ms/step - loss: 1.2835 - accuracy: 0.5246 - lr: 0.0010\n",
      "Epoch 111/150\n",
      "61/61 [==============================] - ETA: 0s - loss: 1.2759 - accuracy: 0.5207\n",
      "Epoch 00111: loss did not improve from 1.27051\n",
      "61/61 [==============================] - 5s 85ms/step - loss: 1.2759 - accuracy: 0.5207 - lr: 0.0010\n",
      "Epoch 112/150\n",
      "61/61 [==============================] - ETA: 0s - loss: 1.2894 - accuracy: 0.5153\n",
      "Epoch 00112: loss did not improve from 1.27051\n",
      "\n",
      "Epoch 00112: ReduceLROnPlateau reducing learning rate to 0.00020000000949949026.\n",
      "61/61 [==============================] - 5s 84ms/step - loss: 1.2894 - accuracy: 0.5153 - lr: 0.0010\n",
      "Epoch 113/150\n",
      "61/61 [==============================] - ETA: 0s - loss: 0.9403 - accuracy: 0.6176\n",
      "Epoch 00113: loss improved from 1.27051 to 0.94033, saving model to nextword.h5\n",
      "61/61 [==============================] - 5s 88ms/step - loss: 0.9403 - accuracy: 0.6176 - lr: 2.0000e-04\n",
      "Epoch 114/150\n",
      "61/61 [==============================] - ETA: 0s - loss: 0.8402 - accuracy: 0.6272\n",
      "Epoch 00114: loss improved from 0.94033 to 0.84023, saving model to nextword.h5\n",
      "61/61 [==============================] - 5s 89ms/step - loss: 0.8402 - accuracy: 0.6272 - lr: 2.0000e-04\n",
      "Epoch 115/150\n",
      "61/61 [==============================] - ETA: 0s - loss: 0.8047 - accuracy: 0.6058\n",
      "Epoch 00115: loss improved from 0.84023 to 0.80471, saving model to nextword.h5\n",
      "61/61 [==============================] - 5s 88ms/step - loss: 0.8047 - accuracy: 0.6058 - lr: 2.0000e-04\n",
      "Epoch 116/150\n",
      "61/61 [==============================] - ETA: 0s - loss: 0.7877 - accuracy: 0.5973\n",
      "Epoch 00116: loss improved from 0.80471 to 0.78774, saving model to nextword.h5\n",
      "61/61 [==============================] - 6s 92ms/step - loss: 0.7877 - accuracy: 0.5973 - lr: 2.0000e-04\n",
      "Epoch 117/150\n",
      "61/61 [==============================] - ETA: 0s - loss: 0.7777 - accuracy: 0.5906\n",
      "Epoch 00117: loss improved from 0.78774 to 0.77773, saving model to nextword.h5\n",
      "61/61 [==============================] - 5s 88ms/step - loss: 0.7777 - accuracy: 0.5906 - lr: 2.0000e-04\n",
      "Epoch 118/150\n",
      "61/61 [==============================] - ETA: 0s - loss: 0.7706 - accuracy: 0.5901\n",
      "Epoch 00118: loss improved from 0.77773 to 0.77061, saving model to nextword.h5\n",
      "61/61 [==============================] - 5s 89ms/step - loss: 0.7706 - accuracy: 0.5901 - lr: 2.0000e-04\n",
      "Epoch 119/150\n",
      "61/61 [==============================] - ETA: 0s - loss: 0.7652 - accuracy: 0.5909\n",
      "Epoch 00119: loss improved from 0.77061 to 0.76516, saving model to nextword.h5\n",
      "61/61 [==============================] - 5s 89ms/step - loss: 0.7652 - accuracy: 0.5909 - lr: 2.0000e-04\n"
     ]
    },
    {
     "name": "stdout",
     "output_type": "stream",
     "text": [
      "Epoch 120/150\n",
      "61/61 [==============================] - ETA: 0s - loss: 0.7613 - accuracy: 0.5829\n",
      "Epoch 00120: loss improved from 0.76516 to 0.76132, saving model to nextword.h5\n",
      "61/61 [==============================] - 5s 84ms/step - loss: 0.7613 - accuracy: 0.5829 - lr: 2.0000e-04\n",
      "Epoch 121/150\n",
      "61/61 [==============================] - ETA: 0s - loss: 0.7574 - accuracy: 0.5791\n",
      "Epoch 00121: loss improved from 0.76132 to 0.75744, saving model to nextword.h5\n",
      "61/61 [==============================] - 5s 84ms/step - loss: 0.7574 - accuracy: 0.5791 - lr: 2.0000e-04\n",
      "Epoch 122/150\n",
      "61/61 [==============================] - ETA: 0s - loss: 0.7537 - accuracy: 0.5822\n",
      "Epoch 00122: loss improved from 0.75744 to 0.75372, saving model to nextword.h5\n",
      "61/61 [==============================] - 5s 84ms/step - loss: 0.7537 - accuracy: 0.5822 - lr: 2.0000e-04\n",
      "Epoch 123/150\n",
      "61/61 [==============================] - ETA: 0s - loss: 0.7524 - accuracy: 0.5811\n",
      "Epoch 00123: loss improved from 0.75372 to 0.75235, saving model to nextword.h5\n",
      "61/61 [==============================] - 5s 85ms/step - loss: 0.7524 - accuracy: 0.5811 - lr: 2.0000e-04\n",
      "Epoch 124/150\n",
      "61/61 [==============================] - ETA: 0s - loss: 0.7503 - accuracy: 0.5804\n",
      "Epoch 00124: loss improved from 0.75235 to 0.75029, saving model to nextword.h5\n",
      "61/61 [==============================] - 5s 85ms/step - loss: 0.7503 - accuracy: 0.5804 - lr: 2.0000e-04\n",
      "Epoch 125/150\n",
      "61/61 [==============================] - ETA: 0s - loss: 0.7488 - accuracy: 0.5827\n",
      "Epoch 00125: loss improved from 0.75029 to 0.74877, saving model to nextword.h5\n",
      "61/61 [==============================] - 5s 84ms/step - loss: 0.7488 - accuracy: 0.5827 - lr: 2.0000e-04\n",
      "Epoch 126/150\n",
      "61/61 [==============================] - ETA: 0s - loss: 0.7465 - accuracy: 0.5804\n",
      "Epoch 00126: loss improved from 0.74877 to 0.74652, saving model to nextword.h5\n",
      "61/61 [==============================] - 5s 87ms/step - loss: 0.7465 - accuracy: 0.5804 - lr: 2.0000e-04\n",
      "Epoch 127/150\n",
      "61/61 [==============================] - ETA: 0s - loss: 0.7428 - accuracy: 0.5770\n",
      "Epoch 00127: loss improved from 0.74652 to 0.74278, saving model to nextword.h5\n",
      "61/61 [==============================] - 5s 85ms/step - loss: 0.7428 - accuracy: 0.5770 - lr: 2.0000e-04\n",
      "Epoch 128/150\n",
      "61/61 [==============================] - ETA: 0s - loss: 0.7422 - accuracy: 0.5827\n",
      "Epoch 00128: loss improved from 0.74278 to 0.74219, saving model to nextword.h5\n",
      "61/61 [==============================] - 5s 87ms/step - loss: 0.7422 - accuracy: 0.5827 - lr: 2.0000e-04\n",
      "Epoch 129/150\n",
      "61/61 [==============================] - ETA: 0s - loss: 0.7434 - accuracy: 0.5788\n",
      "Epoch 00129: loss did not improve from 0.74219\n",
      "61/61 [==============================] - 5s 83ms/step - loss: 0.7434 - accuracy: 0.5788 - lr: 2.0000e-04\n",
      "Epoch 130/150\n",
      "61/61 [==============================] - ETA: 0s - loss: 0.7410 - accuracy: 0.5840\n",
      "Epoch 00130: loss improved from 0.74219 to 0.74103, saving model to nextword.h5\n",
      "61/61 [==============================] - 5s 89ms/step - loss: 0.7410 - accuracy: 0.5840 - lr: 2.0000e-04\n",
      "Epoch 131/150\n",
      "61/61 [==============================] - ETA: 0s - loss: 0.7398 - accuracy: 0.5819\n",
      "Epoch 00131: loss improved from 0.74103 to 0.73985, saving model to nextword.h5\n",
      "61/61 [==============================] - 5s 87ms/step - loss: 0.7398 - accuracy: 0.5819 - lr: 2.0000e-04\n",
      "Epoch 132/150\n",
      "61/61 [==============================] - ETA: 0s - loss: 0.7380 - accuracy: 0.5837\n",
      "Epoch 00132: loss improved from 0.73985 to 0.73804, saving model to nextword.h5\n",
      "61/61 [==============================] - 5s 90ms/step - loss: 0.7380 - accuracy: 0.5837 - lr: 2.0000e-04\n",
      "Epoch 133/150\n",
      "61/61 [==============================] - ETA: 0s - loss: 0.7365 - accuracy: 0.5801\n",
      "Epoch 00133: loss improved from 0.73804 to 0.73652, saving model to nextword.h5\n",
      "61/61 [==============================] - 5s 89ms/step - loss: 0.7365 - accuracy: 0.5801 - lr: 2.0000e-04\n",
      "Epoch 134/150\n",
      "61/61 [==============================] - ETA: 0s - loss: 0.7333 - accuracy: 0.5783\n",
      "Epoch 00134: loss improved from 0.73652 to 0.73334, saving model to nextword.h5\n",
      "61/61 [==============================] - 5s 89ms/step - loss: 0.7333 - accuracy: 0.5783 - lr: 2.0000e-04\n",
      "Epoch 135/150\n",
      "61/61 [==============================] - ETA: 0s - loss: 0.7337 - accuracy: 0.5775\n",
      "Epoch 00135: loss did not improve from 0.73334\n",
      "61/61 [==============================] - 5s 85ms/step - loss: 0.7337 - accuracy: 0.5775 - lr: 2.0000e-04\n",
      "Epoch 136/150\n",
      "61/61 [==============================] - ETA: 0s - loss: 0.7346 - accuracy: 0.5750\n",
      "Epoch 00136: loss did not improve from 0.73334\n",
      "61/61 [==============================] - 5s 89ms/step - loss: 0.7346 - accuracy: 0.5750 - lr: 2.0000e-04\n",
      "Epoch 137/150\n",
      "61/61 [==============================] - ETA: 0s - loss: 0.7325 - accuracy: 0.5791\n",
      "Epoch 00137: loss improved from 0.73334 to 0.73252, saving model to nextword.h5\n",
      "61/61 [==============================] - 6s 97ms/step - loss: 0.7325 - accuracy: 0.5791 - lr: 2.0000e-04\n",
      "Epoch 138/150\n",
      "61/61 [==============================] - ETA: 0s - loss: 0.7309 - accuracy: 0.5837\n",
      "Epoch 00138: loss improved from 0.73252 to 0.73090, saving model to nextword.h5\n",
      "61/61 [==============================] - 6s 91ms/step - loss: 0.7309 - accuracy: 0.5837 - lr: 2.0000e-04\n",
      "Epoch 139/150\n",
      "61/61 [==============================] - ETA: 0s - loss: 0.7281 - accuracy: 0.5806\n",
      "Epoch 00139: loss improved from 0.73090 to 0.72813, saving model to nextword.h5\n",
      "61/61 [==============================] - 5s 90ms/step - loss: 0.7281 - accuracy: 0.5806 - lr: 2.0000e-04\n",
      "Epoch 140/150\n",
      "61/61 [==============================] - ETA: 0s - loss: 0.7292 - accuracy: 0.5819\n",
      "Epoch 00140: loss did not improve from 0.72813\n",
      "61/61 [==============================] - 5s 84ms/step - loss: 0.7292 - accuracy: 0.5819 - lr: 2.0000e-04\n",
      "Epoch 141/150\n",
      "61/61 [==============================] - ETA: 0s - loss: 0.7300 - accuracy: 0.5701\n",
      "Epoch 00141: loss did not improve from 0.72813\n",
      "61/61 [==============================] - 5s 87ms/step - loss: 0.7300 - accuracy: 0.5701 - lr: 2.0000e-04\n",
      "Epoch 142/150\n",
      "61/61 [==============================] - ETA: 0s - loss: 0.7295 - accuracy: 0.5760\n",
      "Epoch 00142: loss did not improve from 0.72813\n",
      "\n",
      "Epoch 00142: ReduceLROnPlateau reducing learning rate to 0.0001.\n",
      "61/61 [==============================] - 5s 85ms/step - loss: 0.7295 - accuracy: 0.5760 - lr: 2.0000e-04\n",
      "Epoch 143/150\n",
      "61/61 [==============================] - ETA: 0s - loss: 0.6779 - accuracy: 0.5950\n",
      "Epoch 00143: loss improved from 0.72813 to 0.67795, saving model to nextword.h5\n",
      "61/61 [==============================] - 5s 89ms/step - loss: 0.6779 - accuracy: 0.5950 - lr: 1.0000e-04\n",
      "Epoch 144/150\n",
      "61/61 [==============================] - ETA: 0s - loss: 0.6743 - accuracy: 0.5806\n",
      "Epoch 00144: loss improved from 0.67795 to 0.67435, saving model to nextword.h5\n",
      "61/61 [==============================] - 5s 88ms/step - loss: 0.6743 - accuracy: 0.5806 - lr: 1.0000e-04\n",
      "Epoch 145/150\n",
      "61/61 [==============================] - ETA: 0s - loss: 0.6733 - accuracy: 0.5840\n",
      "Epoch 00145: loss improved from 0.67435 to 0.67327, saving model to nextword.h5\n",
      "61/61 [==============================] - 6s 92ms/step - loss: 0.6733 - accuracy: 0.5840 - lr: 1.0000e-04\n",
      "Epoch 146/150\n",
      "61/61 [==============================] - ETA: 0s - loss: 0.6719 - accuracy: 0.5855\n",
      "Epoch 00146: loss improved from 0.67327 to 0.67195, saving model to nextword.h5\n",
      "61/61 [==============================] - 5s 89ms/step - loss: 0.6719 - accuracy: 0.5855 - lr: 1.0000e-04\n",
      "Epoch 147/150\n",
      "61/61 [==============================] - ETA: 0s - loss: 0.6713 - accuracy: 0.5870\n",
      "Epoch 00147: loss improved from 0.67195 to 0.67129, saving model to nextword.h5\n",
      "61/61 [==============================] - 5s 90ms/step - loss: 0.6713 - accuracy: 0.5870 - lr: 1.0000e-04\n",
      "Epoch 148/150\n",
      "61/61 [==============================] - ETA: 0s - loss: 0.6724 - accuracy: 0.5806\n",
      "Epoch 00148: loss did not improve from 0.67129\n",
      "61/61 [==============================] - 5s 89ms/step - loss: 0.6724 - accuracy: 0.5806 - lr: 1.0000e-04\n",
      "Epoch 149/150\n",
      "61/61 [==============================] - ETA: 0s - loss: 0.6690 - accuracy: 0.5876\n",
      "Epoch 00149: loss improved from 0.67129 to 0.66899, saving model to nextword.h5\n",
      "61/61 [==============================] - 6s 96ms/step - loss: 0.6690 - accuracy: 0.5876 - lr: 1.0000e-04\n"
     ]
    },
    {
     "name": "stdout",
     "output_type": "stream",
     "text": [
      "Epoch 150/150\n",
      "61/61 [==============================] - ETA: 0s - loss: 0.6704 - accuracy: 0.5814\n",
      "Epoch 00150: loss did not improve from 0.66899\n",
      "61/61 [==============================] - 5s 83ms/step - loss: 0.6704 - accuracy: 0.5814 - lr: 1.0000e-04\n"
     ]
    }
   ],
   "source": [
    "history = model.fit(X, y, epochs=150, batch_size=64, callbacks=[checkpoint, reduce, tensorboard_Visualization])"
   ]
  },
  {
   "cell_type": "code",
   "execution_count": 17,
   "metadata": {},
   "outputs": [
    {
     "name": "stdout",
     "output_type": "stream",
     "text": [
      "dict_keys(['loss', 'accuracy', 'lr'])\n"
     ]
    }
   ],
   "source": [
    "print(history.history.keys())"
   ]
  },
  {
   "cell_type": "code",
   "execution_count": 18,
   "metadata": {},
   "outputs": [
    {
     "data": {
      "image/png": "[encoded data removed]",
      "text/plain": [
       "<Figure size 432x288 with 1 Axes>"
      ]
     },
     "metadata": {
      "needs_background": "light"
     },
     "output_type": "display_data"
    }
   ],
   "source": [
    "plt.plot(history.history['accuracy'])\n",
    "#plt.plot(history.history['val_accuracy'])\n",
    "plt.title('model accuracy')\n",
    "plt.ylabel('accuracy')\n",
    "plt.xlabel('epoch')\n",
    "plt.legend(['train', 'test'], loc='upper left')\n",
    "plt.show()"
   ]
  },
  {
   "cell_type": "code",
   "execution_count": 19,
   "metadata": {},
   "outputs": [
    {
     "data": {
      "image/png": "[encoded data removed]",
      "text/plain": [
       "<Figure size 432x288 with 1 Axes>"
      ]
     },
     "metadata": {
      "needs_background": "light"
     },
     "output_type": "display_data"
    }
   ],
   "source": [
    "plt.plot(history.history['loss'])\n",
    "plt.plot(history.history['lr'])\n",
    "plt.title('model loss')\n",
    "plt.ylabel('loss')\n",
    "plt.xlabel('epoch')\n",
    "plt.legend(['train', 'test'], loc='upper left')\n",
    "plt.show()"
   ]
  },
  {
   "cell_type": "code",
   "execution_count": 20,
   "metadata": {
    "id": "Tcvi4iC6yRBM"
   },
   "outputs": [],
   "source": [
    "# Importing the Libraries\n",
    "\n",
    "from tensorflow.keras.models import load_model\n",
    "import numpy as np\n",
    "import pickle\n",
    "\n",
    "# Load the model and tokenizer\n",
    "\n",
    "model = load_model('nextword.h5')\n",
    "tokenizer = pickle.load(open('tokenizer1.pkl', 'rb'))\n",
    "\n",
    "def Predict_Next_Words(model, tokenizer, text):\n",
    "\n",
    "  for i in range(3):\n",
    "    sequence = tokenizer.texts_to_sequences([text])[0]\n",
    "    sequence = np.array(sequence)\n",
    "    \n",
    "    preds = model.predict_classes(sequence)\n",
    "#         print(preds)\n",
    "    predicted_word = \"\"\n",
    "    \n",
    "    for key, value in tokenizer.word_index.items():\n",
    "      if value == preds:\n",
    "        predicted_word = key\n",
    "        break\n",
    "    \n",
    "    #print(predicted_word)\n",
    "  return predicted_word"
   ]
  },
  {
   "cell_type": "code",
   "execution_count": null,
   "metadata": {
    "id": "aQko6_6RyTRx"
   },
   "outputs": [
    {
     "name": "stdout",
     "output_type": "stream",
     "text": [
      "Enter your line: at the dull\n",
      "WARNING:tensorflow:From <ipython-input-20-eb218e6333bd>:18: Sequential.predict_classes (from tensorflow.python.keras.engine.sequential) is deprecated and will be removed after 2021-01-01.\n",
      "Instructions for updating:\n",
      "Please use instead:* `np.argmax(model.predict(x), axis=-1)`,   if your model does multi-class classification   (e.g. if it uses a `softmax` last-layer activation).* `(model.predict(x) > 0.5).astype(\"int32\")`,   if your model does binary classification   (e.g. if it uses a `sigmoid` last-layer activation).\n",
      "weather\n",
      "Enter your line: collection of textile\n",
      "samples\n"
     ]
    }
   ],
   "source": [
    "# EXAMPLES TO TYPE\n",
    "# text1 = \"at the dull\"\n",
    "# text2 = \"collection of textile\"\n",
    "# text3 = \"what a strenuous\"\n",
    "# text4 = \"stop the script\"\n",
    "\n",
    "while(True):\n",
    "  text = input(\"Enter your line: \")\n",
    "    \n",
    "  if text == \"stop\":\n",
    "    print(\"Ending The Program.....\")\n",
    "    break\n",
    "  \n",
    "  else:\n",
    "    try:\n",
    "      text = text.split(\" \")\n",
    "      text = text[-1]\n",
    "\n",
    "      text = ''.join(text)\n",
    "      pred_word = Predict_Next_Words(model, tokenizer, text)\n",
    "      print(pred_word)\n",
    "\n",
    "          \n",
    "    except:\n",
    "      continue\n"
   ]
  },
  {
   "cell_type": "code",
   "execution_count": null,
   "metadata": {},
   "outputs": [],
   "source": []
  }
 ],
 "metadata": {
  "colab": {
   "name": "NLP_DEMO.ipynb",
   "provenance": []
  },
  "kernelspec": {
   "display_name": "Python 3",
   "language": "python",
   "name": "python3"
  },
  "language_info": {
   "codemirror_mode": {
    "name": "ipython",
    "version": 3
   },
   "file_extension": ".py",
   "mimetype": "text/x-python",
   "name": "python",
   "nbconvert_exporter": "python",
   "pygments_lexer": "ipython3",
   "version": "3.7.6"
  }
 },
 "nbformat": 4,
 "nbformat_minor": 1
}
